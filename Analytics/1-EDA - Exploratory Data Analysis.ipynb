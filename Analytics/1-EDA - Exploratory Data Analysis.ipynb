{
 "cells": [
  {
   "cell_type": "markdown",
   "metadata": {},
   "source": [
    "# Exploring Data Analysis\n",
    "\n",
    "In this first stage we will identify the quality of the dataset, such as there is missing values, wrong measurements, the vacations gaps and the others that can impact in our time serie. It's important identify the assess features quality, sazonalities, ciclical moviments, the correlation about the variables and get an idea on the univariate statistics such as minimum, maximum, standard deviation, mean and median."
   ]
  },
  {
   "cell_type": "code",
   "execution_count": 1,
   "metadata": {},
   "outputs": [],
   "source": [
    "import pandas as pd\n",
    "import matplotlib.pyplot as plt\n",
    "import numpy as np\n",
    "import seaborn as sns; sns.set()\n",
    "import datetime"
   ]
  },
  {
   "cell_type": "code",
   "execution_count": 2,
   "metadata": {},
   "outputs": [
    {
     "data": {
      "text/plain": [
       "(4968, 7)"
      ]
     },
     "execution_count": 2,
     "metadata": {},
     "output_type": "execute_result"
    }
   ],
   "source": [
    "df = pd.read_csv(\"Data//ITUB4 Dados Históricos.csv\",sep=\",\",decimal=\",\")\n",
    "df.columns = ['Date','Close','Open','High','Low', 'Vol','Var']\n",
    "df.shape"
   ]
  },
  {
   "cell_type": "code",
   "execution_count": 3,
   "metadata": {},
   "outputs": [
    {
     "data": {
      "text/html": [
       "<div>\n",
       "<style scoped>\n",
       "    .dataframe tbody tr th:only-of-type {\n",
       "        vertical-align: middle;\n",
       "    }\n",
       "\n",
       "    .dataframe tbody tr th {\n",
       "        vertical-align: top;\n",
       "    }\n",
       "\n",
       "    .dataframe thead th {\n",
       "        text-align: right;\n",
       "    }\n",
       "</style>\n",
       "<table border=\"1\" class=\"dataframe\">\n",
       "  <thead>\n",
       "    <tr style=\"text-align: right;\">\n",
       "      <th></th>\n",
       "      <th>Date</th>\n",
       "      <th>Close</th>\n",
       "      <th>Open</th>\n",
       "      <th>High</th>\n",
       "      <th>Low</th>\n",
       "      <th>Vol</th>\n",
       "      <th>Var</th>\n",
       "    </tr>\n",
       "  </thead>\n",
       "  <tbody>\n",
       "    <tr>\n",
       "      <th>0</th>\n",
       "      <td>04.05.2020</td>\n",
       "      <td>21.89</td>\n",
       "      <td>21.95</td>\n",
       "      <td>22.09</td>\n",
       "      <td>21.78</td>\n",
       "      <td>31,75M</td>\n",
       "      <td>-3,86%</td>\n",
       "    </tr>\n",
       "    <tr>\n",
       "      <th>1</th>\n",
       "      <td>30.04.2020</td>\n",
       "      <td>22.77</td>\n",
       "      <td>22.59</td>\n",
       "      <td>23.33</td>\n",
       "      <td>22.46</td>\n",
       "      <td>46,09M</td>\n",
       "      <td>-3,76%</td>\n",
       "    </tr>\n",
       "    <tr>\n",
       "      <th>2</th>\n",
       "      <td>29.04.2020</td>\n",
       "      <td>23.66</td>\n",
       "      <td>24.00</td>\n",
       "      <td>24.12</td>\n",
       "      <td>23.16</td>\n",
       "      <td>31,29M</td>\n",
       "      <td>1,33%</td>\n",
       "    </tr>\n",
       "    <tr>\n",
       "      <th>3</th>\n",
       "      <td>28.04.2020</td>\n",
       "      <td>23.35</td>\n",
       "      <td>22.98</td>\n",
       "      <td>23.61</td>\n",
       "      <td>22.59</td>\n",
       "      <td>57,88M</td>\n",
       "      <td>8,25%</td>\n",
       "    </tr>\n",
       "    <tr>\n",
       "      <th>4</th>\n",
       "      <td>27.04.2020</td>\n",
       "      <td>21.57</td>\n",
       "      <td>21.54</td>\n",
       "      <td>22.14</td>\n",
       "      <td>21.10</td>\n",
       "      <td>38,29M</td>\n",
       "      <td>3,30%</td>\n",
       "    </tr>\n",
       "  </tbody>\n",
       "</table>\n",
       "</div>"
      ],
      "text/plain": [
       "         Date  Close   Open   High    Low     Vol     Var\n",
       "0  04.05.2020  21.89  21.95  22.09  21.78  31,75M  -3,86%\n",
       "1  30.04.2020  22.77  22.59  23.33  22.46  46,09M  -3,76%\n",
       "2  29.04.2020  23.66  24.00  24.12  23.16  31,29M   1,33%\n",
       "3  28.04.2020  23.35  22.98  23.61  22.59  57,88M   8,25%\n",
       "4  27.04.2020  21.57  21.54  22.14  21.10  38,29M   3,30%"
      ]
     },
     "execution_count": 3,
     "metadata": {},
     "output_type": "execute_result"
    }
   ],
   "source": [
    "df.head()"
   ]
  },
  {
   "cell_type": "markdown",
   "metadata": {},
   "source": [
    "### Emptiness\n",
    "Let's check if there's some **nan** values in the Dataframe."
   ]
  },
  {
   "cell_type": "code",
   "execution_count": 4,
   "metadata": {},
   "outputs": [
    {
     "data": {
      "text/plain": [
       "False"
      ]
     },
     "execution_count": 4,
     "metadata": {},
     "output_type": "execute_result"
    }
   ],
   "source": [
    "df.isnull().values.any()"
   ]
  },
  {
   "cell_type": "markdown",
   "metadata": {},
   "source": [
    "### Data types\n",
    "Check with the data types of columns matching their content."
   ]
  },
  {
   "cell_type": "code",
   "execution_count": 5,
   "metadata": {},
   "outputs": [
    {
     "data": {
      "text/plain": [
       "Date      object\n",
       "Close    float64\n",
       "Open     float64\n",
       "High     float64\n",
       "Low      float64\n",
       "Vol       object\n",
       "Var       object\n",
       "dtype: object"
      ]
     },
     "execution_count": 5,
     "metadata": {},
     "output_type": "execute_result"
    }
   ],
   "source": [
    "df.dtypes"
   ]
  },
  {
   "cell_type": "markdown",
   "metadata": {},
   "source": [
    "We can notice that the Date, Vol and Var% need to be casting to date time, float and float respectively.  \n",
    "Converting the Date column using **to_datetime** to garanting the format in the time serie."
   ]
  },
  {
   "cell_type": "code",
   "execution_count": 6,
   "metadata": {},
   "outputs": [],
   "source": [
    "df['Date'] = pd.to_datetime(df['Date'], format = '%d.%m.%Y')"
   ]
  },
  {
   "cell_type": "markdown",
   "metadata": {},
   "source": [
    "In the Vol column we need to transform the M in Millions (10⁶) to we can use this and get a correlation."
   ]
  },
  {
   "cell_type": "code",
   "execution_count": 7,
   "metadata": {},
   "outputs": [],
   "source": [
    "df.Vol = (df.Vol.replace(r',', '.', regex=True).replace(r'[KM]+$', '', regex=True).astype(float) * \\\n",
    "            df.Vol.str.extract(r'[\\d\\.]+([KM]+)', expand=False)\n",
    "            .fillna(1)\n",
    "            .replace(['K','M'], [10**3, 10**6]).astype(int))"
   ]
  },
  {
   "cell_type": "markdown",
   "metadata": {},
   "source": [
    "The Var column needs to replace % for none and ',' for '.' to be casting to float."
   ]
  },
  {
   "cell_type": "code",
   "execution_count": 8,
   "metadata": {},
   "outputs": [],
   "source": [
    "df['Var'] = df[\"Var\"].str.replace('%','',regex=True).replace(',','.',regex=True).astype(float)"
   ]
  },
  {
   "cell_type": "code",
   "execution_count": 9,
   "metadata": {},
   "outputs": [
    {
     "data": {
      "text/html": [
       "<div>\n",
       "<style scoped>\n",
       "    .dataframe tbody tr th:only-of-type {\n",
       "        vertical-align: middle;\n",
       "    }\n",
       "\n",
       "    .dataframe tbody tr th {\n",
       "        vertical-align: top;\n",
       "    }\n",
       "\n",
       "    .dataframe thead th {\n",
       "        text-align: right;\n",
       "    }\n",
       "</style>\n",
       "<table border=\"1\" class=\"dataframe\">\n",
       "  <thead>\n",
       "    <tr style=\"text-align: right;\">\n",
       "      <th></th>\n",
       "      <th>Date</th>\n",
       "      <th>Close</th>\n",
       "      <th>Open</th>\n",
       "      <th>High</th>\n",
       "      <th>Low</th>\n",
       "      <th>Vol</th>\n",
       "      <th>Var</th>\n",
       "    </tr>\n",
       "  </thead>\n",
       "  <tbody>\n",
       "    <tr>\n",
       "      <th>0</th>\n",
       "      <td>2020-05-04</td>\n",
       "      <td>21.89</td>\n",
       "      <td>21.95</td>\n",
       "      <td>22.09</td>\n",
       "      <td>21.78</td>\n",
       "      <td>31750000.0</td>\n",
       "      <td>-3.86</td>\n",
       "    </tr>\n",
       "    <tr>\n",
       "      <th>1</th>\n",
       "      <td>2020-04-30</td>\n",
       "      <td>22.77</td>\n",
       "      <td>22.59</td>\n",
       "      <td>23.33</td>\n",
       "      <td>22.46</td>\n",
       "      <td>46090000.0</td>\n",
       "      <td>-3.76</td>\n",
       "    </tr>\n",
       "    <tr>\n",
       "      <th>2</th>\n",
       "      <td>2020-04-29</td>\n",
       "      <td>23.66</td>\n",
       "      <td>24.00</td>\n",
       "      <td>24.12</td>\n",
       "      <td>23.16</td>\n",
       "      <td>31290000.0</td>\n",
       "      <td>1.33</td>\n",
       "    </tr>\n",
       "    <tr>\n",
       "      <th>3</th>\n",
       "      <td>2020-04-28</td>\n",
       "      <td>23.35</td>\n",
       "      <td>22.98</td>\n",
       "      <td>23.61</td>\n",
       "      <td>22.59</td>\n",
       "      <td>57880000.0</td>\n",
       "      <td>8.25</td>\n",
       "    </tr>\n",
       "    <tr>\n",
       "      <th>4</th>\n",
       "      <td>2020-04-27</td>\n",
       "      <td>21.57</td>\n",
       "      <td>21.54</td>\n",
       "      <td>22.14</td>\n",
       "      <td>21.10</td>\n",
       "      <td>38290000.0</td>\n",
       "      <td>3.30</td>\n",
       "    </tr>\n",
       "  </tbody>\n",
       "</table>\n",
       "</div>"
      ],
      "text/plain": [
       "        Date  Close   Open   High    Low         Vol   Var\n",
       "0 2020-05-04  21.89  21.95  22.09  21.78  31750000.0 -3.86\n",
       "1 2020-04-30  22.77  22.59  23.33  22.46  46090000.0 -3.76\n",
       "2 2020-04-29  23.66  24.00  24.12  23.16  31290000.0  1.33\n",
       "3 2020-04-28  23.35  22.98  23.61  22.59  57880000.0  8.25\n",
       "4 2020-04-27  21.57  21.54  22.14  21.10  38290000.0  3.30"
      ]
     },
     "execution_count": 9,
     "metadata": {},
     "output_type": "execute_result"
    }
   ],
   "source": [
    "df.head()"
   ]
  },
  {
   "cell_type": "markdown",
   "metadata": {},
   "source": [
    "### Ranges\n",
    "Lets computes a summary of statistics pertaining to the DataFrame columns with the function **describe()** and the next step is plot the boxplot to obtain the same information with data vizualization. The goal is check if the range of each columns make sense."
   ]
  },
  {
   "cell_type": "code",
   "execution_count": 10,
   "metadata": {},
   "outputs": [
    {
     "data": {
      "text/html": [
       "<div>\n",
       "<style scoped>\n",
       "    .dataframe tbody tr th:only-of-type {\n",
       "        vertical-align: middle;\n",
       "    }\n",
       "\n",
       "    .dataframe tbody tr th {\n",
       "        vertical-align: top;\n",
       "    }\n",
       "\n",
       "    .dataframe thead th {\n",
       "        text-align: right;\n",
       "    }\n",
       "</style>\n",
       "<table border=\"1\" class=\"dataframe\">\n",
       "  <thead>\n",
       "    <tr style=\"text-align: right;\">\n",
       "      <th></th>\n",
       "      <th>Close</th>\n",
       "      <th>Open</th>\n",
       "      <th>High</th>\n",
       "      <th>Low</th>\n",
       "      <th>Vol</th>\n",
       "      <th>Var</th>\n",
       "    </tr>\n",
       "  </thead>\n",
       "  <tbody>\n",
       "    <tr>\n",
       "      <th>count</th>\n",
       "      <td>4968.000000</td>\n",
       "      <td>4968.000000</td>\n",
       "      <td>4968.000000</td>\n",
       "      <td>4968.000000</td>\n",
       "      <td>4.968000e+03</td>\n",
       "      <td>4968.000000</td>\n",
       "    </tr>\n",
       "    <tr>\n",
       "      <th>mean</th>\n",
       "      <td>11.419726</td>\n",
       "      <td>11.422480</td>\n",
       "      <td>11.569746</td>\n",
       "      <td>11.263259</td>\n",
       "      <td>2.960777e+07</td>\n",
       "      <td>0.079217</td>\n",
       "    </tr>\n",
       "    <tr>\n",
       "      <th>std</th>\n",
       "      <td>8.902502</td>\n",
       "      <td>8.908701</td>\n",
       "      <td>9.007277</td>\n",
       "      <td>8.798432</td>\n",
       "      <td>3.440288e+07</td>\n",
       "      <td>2.286837</td>\n",
       "    </tr>\n",
       "    <tr>\n",
       "      <th>min</th>\n",
       "      <td>1.180000</td>\n",
       "      <td>1.180000</td>\n",
       "      <td>1.180000</td>\n",
       "      <td>1.110000</td>\n",
       "      <td>1.130000e+06</td>\n",
       "      <td>-12.060000</td>\n",
       "    </tr>\n",
       "    <tr>\n",
       "      <th>25%</th>\n",
       "      <td>4.347500</td>\n",
       "      <td>4.340000</td>\n",
       "      <td>4.397500</td>\n",
       "      <td>4.300000</td>\n",
       "      <td>1.199000e+07</td>\n",
       "      <td>-1.242500</td>\n",
       "    </tr>\n",
       "    <tr>\n",
       "      <th>50%</th>\n",
       "      <td>9.915000</td>\n",
       "      <td>9.940000</td>\n",
       "      <td>10.065000</td>\n",
       "      <td>9.745000</td>\n",
       "      <td>1.936500e+07</td>\n",
       "      <td>0.000000</td>\n",
       "    </tr>\n",
       "    <tr>\n",
       "      <th>75%</th>\n",
       "      <td>14.572500</td>\n",
       "      <td>14.582500</td>\n",
       "      <td>14.780000</td>\n",
       "      <td>14.370000</td>\n",
       "      <td>3.489750e+07</td>\n",
       "      <td>1.260000</td>\n",
       "    </tr>\n",
       "    <tr>\n",
       "      <th>max</th>\n",
       "      <td>36.850000</td>\n",
       "      <td>36.410000</td>\n",
       "      <td>37.050000</td>\n",
       "      <td>36.280000</td>\n",
       "      <td>8.410500e+08</td>\n",
       "      <td>23.230000</td>\n",
       "    </tr>\n",
       "  </tbody>\n",
       "</table>\n",
       "</div>"
      ],
      "text/plain": [
       "             Close         Open         High          Low           Vol  \\\n",
       "count  4968.000000  4968.000000  4968.000000  4968.000000  4.968000e+03   \n",
       "mean     11.419726    11.422480    11.569746    11.263259  2.960777e+07   \n",
       "std       8.902502     8.908701     9.007277     8.798432  3.440288e+07   \n",
       "min       1.180000     1.180000     1.180000     1.110000  1.130000e+06   \n",
       "25%       4.347500     4.340000     4.397500     4.300000  1.199000e+07   \n",
       "50%       9.915000     9.940000    10.065000     9.745000  1.936500e+07   \n",
       "75%      14.572500    14.582500    14.780000    14.370000  3.489750e+07   \n",
       "max      36.850000    36.410000    37.050000    36.280000  8.410500e+08   \n",
       "\n",
       "               Var  \n",
       "count  4968.000000  \n",
       "mean      0.079217  \n",
       "std       2.286837  \n",
       "min     -12.060000  \n",
       "25%      -1.242500  \n",
       "50%       0.000000  \n",
       "75%       1.260000  \n",
       "max      23.230000  "
      ]
     },
     "execution_count": 10,
     "metadata": {},
     "output_type": "execute_result"
    }
   ],
   "source": [
    "df.describe()"
   ]
  },
  {
   "cell_type": "code",
   "execution_count": 11,
   "metadata": {},
   "outputs": [
    {
     "data": {
      "image/png": "[encoded data removed]",
      "text/plain": [
       "<Figure size 1440x504 with 6 Axes>"
      ]
     },
     "metadata": {},
     "output_type": "display_data"
    }
   ],
   "source": [
    "fig, (ax1, ax2,ax3,ax4,ax5,ax6) = plt.subplots(ncols=6, sharey=True,figsize=(20, 7))\n",
    "sns.boxplot(x=\"Close\",data=df, ax=ax1,palette = 'Blues')\n",
    "sns.boxplot(x=\"Open\",data=df, ax=ax2, palette = 'Oranges')\n",
    "sns.boxplot(x=\"High\",data=df, ax=ax3, palette = 'Blues')\n",
    "sns.boxplot(x=\"Low\",data=df, ax=ax4, palette = 'Oranges')\n",
    "sns.boxplot(x=\"Vol\",data=df, ax=ax5, palette = 'Blues')\n",
    "sns.boxplot(x=\"Var\",data=df, ax=ax6, palette = 'Oranges')\n",
    "\n",
    "\n",
    "plt.show()"
   ]
  },
  {
   "cell_type": "markdown",
   "metadata": {},
   "source": [
    "all variables seem suitable."
   ]
  },
  {
   "cell_type": "markdown",
   "metadata": {},
   "source": [
    "### Time Series"
   ]
  },
  {
   "cell_type": "code",
   "execution_count": 12,
   "metadata": {},
   "outputs": [
    {
     "data": {
      "image/png": "[encoded data removed]",
      "text/plain": [
       "<Figure size 1080x504 with 1 Axes>"
      ]
     },
     "metadata": {},
     "output_type": "display_data"
    }
   ],
   "source": [
    "dim = (15, 7)\n",
    "fig, ax = plt.subplots(figsize=dim)\n",
    "ax = sns.lineplot(x=\"Date\", y=\"Close\", color = 'royalblue',data=df)"
   ]
  },
  {
   "cell_type": "markdown",
   "metadata": {},
   "source": [
    "We can notice that there is a drop in the beginnin of 2020, it must be due the pandemic Covid-19 and we need to consider it as an exogenous factor in our analysis, clearly a bearmarket.  <br>\n",
    "For to draft a notion a seasonality and cyclical periods we need to create Day of Week, Week of year and Quarter columns."
   ]
  },
  {
   "cell_type": "code",
   "execution_count": 13,
   "metadata": {},
   "outputs": [
    {
     "data": {
      "text/html": [
       "<div>\n",
       "<style scoped>\n",
       "    .dataframe tbody tr th:only-of-type {\n",
       "        vertical-align: middle;\n",
       "    }\n",
       "\n",
       "    .dataframe tbody tr th {\n",
       "        vertical-align: top;\n",
       "    }\n",
       "\n",
       "    .dataframe thead th {\n",
       "        text-align: right;\n",
       "    }\n",
       "</style>\n",
       "<table border=\"1\" class=\"dataframe\">\n",
       "  <thead>\n",
       "    <tr style=\"text-align: right;\">\n",
       "      <th></th>\n",
       "      <th>Date</th>\n",
       "      <th>Close</th>\n",
       "      <th>Open</th>\n",
       "      <th>High</th>\n",
       "      <th>Low</th>\n",
       "      <th>Vol</th>\n",
       "      <th>Var</th>\n",
       "      <th>DayofWeek</th>\n",
       "      <th>Weekofyear</th>\n",
       "      <th>Quarter</th>\n",
       "      <th>month</th>\n",
       "    </tr>\n",
       "  </thead>\n",
       "  <tbody>\n",
       "    <tr>\n",
       "      <th>0</th>\n",
       "      <td>2020-05-04</td>\n",
       "      <td>21.89</td>\n",
       "      <td>21.95</td>\n",
       "      <td>22.09</td>\n",
       "      <td>21.78</td>\n",
       "      <td>31750000.0</td>\n",
       "      <td>-3.86</td>\n",
       "      <td>0</td>\n",
       "      <td>19</td>\n",
       "      <td>2</td>\n",
       "      <td>5</td>\n",
       "    </tr>\n",
       "    <tr>\n",
       "      <th>1</th>\n",
       "      <td>2020-04-30</td>\n",
       "      <td>22.77</td>\n",
       "      <td>22.59</td>\n",
       "      <td>23.33</td>\n",
       "      <td>22.46</td>\n",
       "      <td>46090000.0</td>\n",
       "      <td>-3.76</td>\n",
       "      <td>3</td>\n",
       "      <td>18</td>\n",
       "      <td>2</td>\n",
       "      <td>4</td>\n",
       "    </tr>\n",
       "    <tr>\n",
       "      <th>2</th>\n",
       "      <td>2020-04-29</td>\n",
       "      <td>23.66</td>\n",
       "      <td>24.00</td>\n",
       "      <td>24.12</td>\n",
       "      <td>23.16</td>\n",
       "      <td>31290000.0</td>\n",
       "      <td>1.33</td>\n",
       "      <td>2</td>\n",
       "      <td>18</td>\n",
       "      <td>2</td>\n",
       "      <td>4</td>\n",
       "    </tr>\n",
       "    <tr>\n",
       "      <th>3</th>\n",
       "      <td>2020-04-28</td>\n",
       "      <td>23.35</td>\n",
       "      <td>22.98</td>\n",
       "      <td>23.61</td>\n",
       "      <td>22.59</td>\n",
       "      <td>57880000.0</td>\n",
       "      <td>8.25</td>\n",
       "      <td>1</td>\n",
       "      <td>18</td>\n",
       "      <td>2</td>\n",
       "      <td>4</td>\n",
       "    </tr>\n",
       "    <tr>\n",
       "      <th>4</th>\n",
       "      <td>2020-04-27</td>\n",
       "      <td>21.57</td>\n",
       "      <td>21.54</td>\n",
       "      <td>22.14</td>\n",
       "      <td>21.10</td>\n",
       "      <td>38290000.0</td>\n",
       "      <td>3.30</td>\n",
       "      <td>0</td>\n",
       "      <td>18</td>\n",
       "      <td>2</td>\n",
       "      <td>4</td>\n",
       "    </tr>\n",
       "    <tr>\n",
       "      <th>5</th>\n",
       "      <td>2020-04-24</td>\n",
       "      <td>20.88</td>\n",
       "      <td>21.74</td>\n",
       "      <td>21.82</td>\n",
       "      <td>20.37</td>\n",
       "      <td>68490000.0</td>\n",
       "      <td>-5.31</td>\n",
       "      <td>4</td>\n",
       "      <td>17</td>\n",
       "      <td>2</td>\n",
       "      <td>4</td>\n",
       "    </tr>\n",
       "    <tr>\n",
       "      <th>6</th>\n",
       "      <td>2020-04-23</td>\n",
       "      <td>22.05</td>\n",
       "      <td>22.66</td>\n",
       "      <td>22.74</td>\n",
       "      <td>21.84</td>\n",
       "      <td>41010000.0</td>\n",
       "      <td>-1.43</td>\n",
       "      <td>3</td>\n",
       "      <td>17</td>\n",
       "      <td>2</td>\n",
       "      <td>4</td>\n",
       "    </tr>\n",
       "    <tr>\n",
       "      <th>7</th>\n",
       "      <td>2020-04-22</td>\n",
       "      <td>22.37</td>\n",
       "      <td>22.40</td>\n",
       "      <td>23.13</td>\n",
       "      <td>22.21</td>\n",
       "      <td>47810000.0</td>\n",
       "      <td>-1.19</td>\n",
       "      <td>2</td>\n",
       "      <td>17</td>\n",
       "      <td>2</td>\n",
       "      <td>4</td>\n",
       "    </tr>\n",
       "    <tr>\n",
       "      <th>8</th>\n",
       "      <td>2020-04-20</td>\n",
       "      <td>22.64</td>\n",
       "      <td>22.72</td>\n",
       "      <td>22.97</td>\n",
       "      <td>22.50</td>\n",
       "      <td>28380000.0</td>\n",
       "      <td>-2.50</td>\n",
       "      <td>0</td>\n",
       "      <td>17</td>\n",
       "      <td>2</td>\n",
       "      <td>4</td>\n",
       "    </tr>\n",
       "    <tr>\n",
       "      <th>9</th>\n",
       "      <td>2020-04-17</td>\n",
       "      <td>23.22</td>\n",
       "      <td>23.44</td>\n",
       "      <td>23.61</td>\n",
       "      <td>22.61</td>\n",
       "      <td>25100000.0</td>\n",
       "      <td>1.80</td>\n",
       "      <td>4</td>\n",
       "      <td>16</td>\n",
       "      <td>2</td>\n",
       "      <td>4</td>\n",
       "    </tr>\n",
       "  </tbody>\n",
       "</table>\n",
       "</div>"
      ],
      "text/plain": [
       "        Date  Close   Open   High    Low         Vol   Var  DayofWeek  \\\n",
       "0 2020-05-04  21.89  21.95  22.09  21.78  31750000.0 -3.86          0   \n",
       "1 2020-04-30  22.77  22.59  23.33  22.46  46090000.0 -3.76          3   \n",
       "2 2020-04-29  23.66  24.00  24.12  23.16  31290000.0  1.33          2   \n",
       "3 2020-04-28  23.35  22.98  23.61  22.59  57880000.0  8.25          1   \n",
       "4 2020-04-27  21.57  21.54  22.14  21.10  38290000.0  3.30          0   \n",
       "5 2020-04-24  20.88  21.74  21.82  20.37  68490000.0 -5.31          4   \n",
       "6 2020-04-23  22.05  22.66  22.74  21.84  41010000.0 -1.43          3   \n",
       "7 2020-04-22  22.37  22.40  23.13  22.21  47810000.0 -1.19          2   \n",
       "8 2020-04-20  22.64  22.72  22.97  22.50  28380000.0 -2.50          0   \n",
       "9 2020-04-17  23.22  23.44  23.61  22.61  25100000.0  1.80          4   \n",
       "\n",
       "   Weekofyear  Quarter  month  \n",
       "0          19        2      5  \n",
       "1          18        2      4  \n",
       "2          18        2      4  \n",
       "3          18        2      4  \n",
       "4          18        2      4  \n",
       "5          17        2      4  \n",
       "6          17        2      4  \n",
       "7          17        2      4  \n",
       "8          17        2      4  \n",
       "9          16        2      4  "
      ]
     },
     "execution_count": 13,
     "metadata": {},
     "output_type": "execute_result"
    }
   ],
   "source": [
    "df['DayofWeek'] = df['Date'].dt.dayofweek\n",
    "df['Weekofyear'] = df['Date'].dt.week\n",
    "df['Quarter'] = df['Date'].dt.quarter\n",
    "df['month'] = df['Date'].dt.month\n",
    "df.head(10)"
   ]
  },
  {
   "cell_type": "markdown",
   "metadata": {},
   "source": [
    "The next step is to analyze the univariate statistics, which can give us a basic understanding of the behavior of the data.  \n",
    "We can obtain the basic information about the dataset that we're working. The most important things we have in this moment is the Close Price Column:\n",
    "\n",
    "&emsp;&emsp; 25% of the shares has a price below 4.34 Reais.  \n",
    "&emsp;&emsp; 50% of the shares has a price below 9.915 Reais.  \n",
    "&emsp;&emsp; 75% of the shares has a price below 14.57 Reais.\n",
    "\n",
    "So we can notice that the median price is 9.915, but we have to be care, because a possibility there is a trend due the outliers.\n",
    "So to a better understanding about Quartis, we can use the boxplot."
   ]
  },
  {
   "cell_type": "code",
   "execution_count": 14,
   "metadata": {},
   "outputs": [
    {
     "data": {
      "image/png": "[encoded data removed]",
      "text/plain": [
       "<Figure size 1080x504 with 1 Axes>"
      ]
     },
     "metadata": {},
     "output_type": "display_data"
    }
   ],
   "source": [
    "fig, ax = plt.subplots(figsize=(15, 7))\n",
    "ax = sns.boxplot(x=\"Close\", data=df )"
   ]
  },
  {
   "cell_type": "markdown",
   "metadata": {},
   "source": [
    "Now let's get the correlation about the values of these dataframe. I with my newbie vision about the stock market expect the high positive correlation about the Close and Open price and a high inverse linear relationship between Close and Volume, based on the first rule of the market **\"Supply and demand\"**."
   ]
  },
  {
   "cell_type": "code",
   "execution_count": 15,
   "metadata": {},
   "outputs": [
    {
     "data": {
      "text/html": [
       "<div>\n",
       "<style scoped>\n",
       "    .dataframe tbody tr th:only-of-type {\n",
       "        vertical-align: middle;\n",
       "    }\n",
       "\n",
       "    .dataframe tbody tr th {\n",
       "        vertical-align: top;\n",
       "    }\n",
       "\n",
       "    .dataframe thead th {\n",
       "        text-align: right;\n",
       "    }\n",
       "</style>\n",
       "<table border=\"1\" class=\"dataframe\">\n",
       "  <thead>\n",
       "    <tr style=\"text-align: right;\">\n",
       "      <th></th>\n",
       "      <th>Close</th>\n",
       "      <th>Open</th>\n",
       "      <th>Vol</th>\n",
       "      <th>High</th>\n",
       "      <th>Low</th>\n",
       "    </tr>\n",
       "  </thead>\n",
       "  <tbody>\n",
       "    <tr>\n",
       "      <th>Close</th>\n",
       "      <td>1.000000</td>\n",
       "      <td>0.999639</td>\n",
       "      <td>-0.298841</td>\n",
       "      <td>0.999837</td>\n",
       "      <td>0.999834</td>\n",
       "    </tr>\n",
       "    <tr>\n",
       "      <th>Open</th>\n",
       "      <td>0.999639</td>\n",
       "      <td>1.000000</td>\n",
       "      <td>-0.298931</td>\n",
       "      <td>0.999830</td>\n",
       "      <td>0.999817</td>\n",
       "    </tr>\n",
       "    <tr>\n",
       "      <th>Vol</th>\n",
       "      <td>-0.298841</td>\n",
       "      <td>-0.298931</td>\n",
       "      <td>1.000000</td>\n",
       "      <td>-0.298094</td>\n",
       "      <td>-0.299613</td>\n",
       "    </tr>\n",
       "    <tr>\n",
       "      <th>High</th>\n",
       "      <td>0.999837</td>\n",
       "      <td>0.999830</td>\n",
       "      <td>-0.298094</td>\n",
       "      <td>1.000000</td>\n",
       "      <td>0.999778</td>\n",
       "    </tr>\n",
       "    <tr>\n",
       "      <th>Low</th>\n",
       "      <td>0.999834</td>\n",
       "      <td>0.999817</td>\n",
       "      <td>-0.299613</td>\n",
       "      <td>0.999778</td>\n",
       "      <td>1.000000</td>\n",
       "    </tr>\n",
       "  </tbody>\n",
       "</table>\n",
       "</div>"
      ],
      "text/plain": [
       "          Close      Open       Vol      High       Low\n",
       "Close  1.000000  0.999639 -0.298841  0.999837  0.999834\n",
       "Open   0.999639  1.000000 -0.298931  0.999830  0.999817\n",
       "Vol   -0.298841 -0.298931  1.000000 -0.298094 -0.299613\n",
       "High   0.999837  0.999830 -0.298094  1.000000  0.999778\n",
       "Low    0.999834  0.999817 -0.299613  0.999778  1.000000"
      ]
     },
     "execution_count": 15,
     "metadata": {},
     "output_type": "execute_result"
    }
   ],
   "source": [
    "Variables = df[['Close','Open','Vol','High','Low']]\n",
    "Matrix = Variables.corr()\n",
    "Matrix"
   ]
  },
  {
   "cell_type": "code",
   "execution_count": 17,
   "metadata": {},
   "outputs": [
    {
     "data": {
      "image/png": "[encoded data removed]",
      "text/plain": [
       "<Figure size 432x288 with 2 Axes>"
      ]
     },
     "metadata": {},
     "output_type": "display_data"
    }
   ],
   "source": [
    "midpoint = (Matrix.values.max() - Matrix.values.min()) / 2\n",
    "p = sns.heatmap(Matrix, cmap='coolwarm', center=midpoint, vmin=-0, vmax=1, annot=True)"
   ]
  },
  {
   "cell_type": "markdown",
   "metadata": {},
   "source": [
    "For the experts in the stock market, this is obvious and a bullshit, but I as a Junior Data Scientist need to conclude on my own, and as expect the high positive correlation and the inverse correlation were found. I confess that I expected a higher inverse correlation between the Price and Volume."
   ]
  },
  {
   "cell_type": "markdown",
   "metadata": {},
   "source": [
    "So now, let's try to identify the sazonality and cicles using DayofWeek, Weekofyear and Quarter columns, it is important to understand the behavior of the stock price at a certain time of the year."
   ]
  },
  {
   "cell_type": "code",
   "execution_count": 18,
   "metadata": {},
   "outputs": [
    {
     "data": {
      "image/png": "[encoded data removed]",
      "text/plain": [
       "<Figure size 1080x504 with 1 Axes>"
      ]
     },
     "metadata": {},
     "output_type": "display_data"
    }
   ],
   "source": [
    "fig, ax = plt.subplots(figsize=(15, 7))\n",
    "ax = sns.boxplot(x=\"DayofWeek\", y=\"Close\",palette=sns.color_palette(\"Oranges\"), data=df, fliersize=5)"
   ]
  },
  {
   "cell_type": "markdown",
   "metadata": {},
   "source": [
    "unlike the video game market that I explored in previous analyzes, where it has a seasonality of higher sales during weekends, the stock market does not show this variation, so the prices don't fluctuate during the week.\n"
   ]
  },
  {
   "cell_type": "code",
   "execution_count": 19,
   "metadata": {},
   "outputs": [
    {
     "data": {
      "image/png": "[encoded data removed]",
      "text/plain": [
       "<Figure size 1080x504 with 1 Axes>"
      ]
     },
     "metadata": {},
     "output_type": "display_data"
    }
   ],
   "source": [
    "fig, ax = plt.subplots(figsize=(15, 7))\n",
    "ax = sns.boxplot(x=\"month\", y=\"Close\",palette=sns.color_palette(\"Blues_d\"), data=df, fliersize=5)"
   ]
  },
  {
   "cell_type": "code",
   "execution_count": 20,
   "metadata": {},
   "outputs": [
    {
     "data": {
      "text/html": [
       "<div>\n",
       "<style scoped>\n",
       "    .dataframe tbody tr th:only-of-type {\n",
       "        vertical-align: middle;\n",
       "    }\n",
       "\n",
       "    .dataframe tbody tr th {\n",
       "        vertical-align: top;\n",
       "    }\n",
       "\n",
       "    .dataframe thead th {\n",
       "        text-align: right;\n",
       "    }\n",
       "</style>\n",
       "<table border=\"1\" class=\"dataframe\">\n",
       "  <thead>\n",
       "    <tr style=\"text-align: right;\">\n",
       "      <th></th>\n",
       "      <th>Date</th>\n",
       "      <th>Close</th>\n",
       "      <th>Open</th>\n",
       "      <th>High</th>\n",
       "      <th>Low</th>\n",
       "      <th>Vol</th>\n",
       "      <th>Var</th>\n",
       "      <th>DayofWeek</th>\n",
       "      <th>Weekofyear</th>\n",
       "      <th>Quarter</th>\n",
       "      <th>month</th>\n",
       "    </tr>\n",
       "  </thead>\n",
       "  <tbody>\n",
       "    <tr>\n",
       "      <th>0</th>\n",
       "      <td>2020-05-04</td>\n",
       "      <td>21.89</td>\n",
       "      <td>21.95</td>\n",
       "      <td>22.09</td>\n",
       "      <td>21.78</td>\n",
       "      <td>31750000.0</td>\n",
       "      <td>-3.86</td>\n",
       "      <td>0</td>\n",
       "      <td>19</td>\n",
       "      <td>2</td>\n",
       "      <td>5</td>\n",
       "    </tr>\n",
       "    <tr>\n",
       "      <th>1</th>\n",
       "      <td>2020-04-30</td>\n",
       "      <td>22.77</td>\n",
       "      <td>22.59</td>\n",
       "      <td>23.33</td>\n",
       "      <td>22.46</td>\n",
       "      <td>46090000.0</td>\n",
       "      <td>-3.76</td>\n",
       "      <td>3</td>\n",
       "      <td>18</td>\n",
       "      <td>2</td>\n",
       "      <td>4</td>\n",
       "    </tr>\n",
       "    <tr>\n",
       "      <th>2</th>\n",
       "      <td>2020-04-29</td>\n",
       "      <td>23.66</td>\n",
       "      <td>24.00</td>\n",
       "      <td>24.12</td>\n",
       "      <td>23.16</td>\n",
       "      <td>31290000.0</td>\n",
       "      <td>1.33</td>\n",
       "      <td>2</td>\n",
       "      <td>18</td>\n",
       "      <td>2</td>\n",
       "      <td>4</td>\n",
       "    </tr>\n",
       "    <tr>\n",
       "      <th>3</th>\n",
       "      <td>2020-04-28</td>\n",
       "      <td>23.35</td>\n",
       "      <td>22.98</td>\n",
       "      <td>23.61</td>\n",
       "      <td>22.59</td>\n",
       "      <td>57880000.0</td>\n",
       "      <td>8.25</td>\n",
       "      <td>1</td>\n",
       "      <td>18</td>\n",
       "      <td>2</td>\n",
       "      <td>4</td>\n",
       "    </tr>\n",
       "    <tr>\n",
       "      <th>4</th>\n",
       "      <td>2020-04-27</td>\n",
       "      <td>21.57</td>\n",
       "      <td>21.54</td>\n",
       "      <td>22.14</td>\n",
       "      <td>21.10</td>\n",
       "      <td>38290000.0</td>\n",
       "      <td>3.30</td>\n",
       "      <td>0</td>\n",
       "      <td>18</td>\n",
       "      <td>2</td>\n",
       "      <td>4</td>\n",
       "    </tr>\n",
       "  </tbody>\n",
       "</table>\n",
       "</div>"
      ],
      "text/plain": [
       "        Date  Close   Open   High    Low         Vol   Var  DayofWeek  \\\n",
       "0 2020-05-04  21.89  21.95  22.09  21.78  31750000.0 -3.86          0   \n",
       "1 2020-04-30  22.77  22.59  23.33  22.46  46090000.0 -3.76          3   \n",
       "2 2020-04-29  23.66  24.00  24.12  23.16  31290000.0  1.33          2   \n",
       "3 2020-04-28  23.35  22.98  23.61  22.59  57880000.0  8.25          1   \n",
       "4 2020-04-27  21.57  21.54  22.14  21.10  38290000.0  3.30          0   \n",
       "\n",
       "   Weekofyear  Quarter  month  \n",
       "0          19        2      5  \n",
       "1          18        2      4  \n",
       "2          18        2      4  \n",
       "3          18        2      4  \n",
       "4          18        2      4  "
      ]
     },
     "execution_count": 20,
     "metadata": {},
     "output_type": "execute_result"
    }
   ],
   "source": [
    "df.head()"
   ]
  },
  {
   "cell_type": "markdown",
   "metadata": {},
   "source": [
    "The 3th until 5th month of year, isn't a good a idea to buy a share, we can see clearly that is where the peak of price is located, but we're looking through the years, so it's more interest look all month during a period."
   ]
  },
  {
   "cell_type": "code",
   "execution_count": 21,
   "metadata": {},
   "outputs": [],
   "source": [
    "df = df.set_index('Date')\n",
    "df['per'] = df.index.to_period('M')\n"
   ]
  },
  {
   "cell_type": "code",
   "execution_count": 22,
   "metadata": {},
   "outputs": [
    {
     "data": {
      "text/html": [
       "<div>\n",
       "<style scoped>\n",
       "    .dataframe tbody tr th:only-of-type {\n",
       "        vertical-align: middle;\n",
       "    }\n",
       "\n",
       "    .dataframe tbody tr th {\n",
       "        vertical-align: top;\n",
       "    }\n",
       "\n",
       "    .dataframe thead th {\n",
       "        text-align: right;\n",
       "    }\n",
       "</style>\n",
       "<table border=\"1\" class=\"dataframe\">\n",
       "  <thead>\n",
       "    <tr style=\"text-align: right;\">\n",
       "      <th></th>\n",
       "      <th>Close</th>\n",
       "      <th>Open</th>\n",
       "      <th>High</th>\n",
       "      <th>Low</th>\n",
       "      <th>Vol</th>\n",
       "      <th>Var</th>\n",
       "      <th>DayofWeek</th>\n",
       "      <th>Weekofyear</th>\n",
       "      <th>Quarter</th>\n",
       "      <th>month</th>\n",
       "      <th>per</th>\n",
       "    </tr>\n",
       "    <tr>\n",
       "      <th>Date</th>\n",
       "      <th></th>\n",
       "      <th></th>\n",
       "      <th></th>\n",
       "      <th></th>\n",
       "      <th></th>\n",
       "      <th></th>\n",
       "      <th></th>\n",
       "      <th></th>\n",
       "      <th></th>\n",
       "      <th></th>\n",
       "      <th></th>\n",
       "    </tr>\n",
       "  </thead>\n",
       "  <tbody>\n",
       "    <tr>\n",
       "      <th>2000-04-26</th>\n",
       "      <td>1.28</td>\n",
       "      <td>1.30</td>\n",
       "      <td>1.30</td>\n",
       "      <td>1.26</td>\n",
       "      <td>56530000.0</td>\n",
       "      <td>2.40</td>\n",
       "      <td>2</td>\n",
       "      <td>17</td>\n",
       "      <td>2</td>\n",
       "      <td>4</td>\n",
       "      <td>2000-04</td>\n",
       "    </tr>\n",
       "    <tr>\n",
       "      <th>2000-04-25</th>\n",
       "      <td>1.25</td>\n",
       "      <td>1.23</td>\n",
       "      <td>1.26</td>\n",
       "      <td>1.21</td>\n",
       "      <td>52090000.0</td>\n",
       "      <td>3.31</td>\n",
       "      <td>1</td>\n",
       "      <td>17</td>\n",
       "      <td>2</td>\n",
       "      <td>4</td>\n",
       "      <td>2000-04</td>\n",
       "    </tr>\n",
       "    <tr>\n",
       "      <th>2000-04-24</th>\n",
       "      <td>1.21</td>\n",
       "      <td>1.25</td>\n",
       "      <td>1.25</td>\n",
       "      <td>1.20</td>\n",
       "      <td>44780000.0</td>\n",
       "      <td>-3.20</td>\n",
       "      <td>0</td>\n",
       "      <td>17</td>\n",
       "      <td>2</td>\n",
       "      <td>4</td>\n",
       "      <td>2000-04</td>\n",
       "    </tr>\n",
       "    <tr>\n",
       "      <th>2000-04-20</th>\n",
       "      <td>1.25</td>\n",
       "      <td>1.21</td>\n",
       "      <td>1.25</td>\n",
       "      <td>1.21</td>\n",
       "      <td>23430000.0</td>\n",
       "      <td>3.31</td>\n",
       "      <td>3</td>\n",
       "      <td>16</td>\n",
       "      <td>2</td>\n",
       "      <td>4</td>\n",
       "      <td>2000-04</td>\n",
       "    </tr>\n",
       "    <tr>\n",
       "      <th>2000-04-19</th>\n",
       "      <td>1.21</td>\n",
       "      <td>1.30</td>\n",
       "      <td>1.30</td>\n",
       "      <td>1.20</td>\n",
       "      <td>70470000.0</td>\n",
       "      <td>-4.72</td>\n",
       "      <td>2</td>\n",
       "      <td>16</td>\n",
       "      <td>2</td>\n",
       "      <td>4</td>\n",
       "      <td>2000-04</td>\n",
       "    </tr>\n",
       "    <tr>\n",
       "      <th>2000-04-18</th>\n",
       "      <td>1.27</td>\n",
       "      <td>1.27</td>\n",
       "      <td>1.31</td>\n",
       "      <td>1.26</td>\n",
       "      <td>68250000.0</td>\n",
       "      <td>1.60</td>\n",
       "      <td>1</td>\n",
       "      <td>16</td>\n",
       "      <td>2</td>\n",
       "      <td>4</td>\n",
       "      <td>2000-04</td>\n",
       "    </tr>\n",
       "    <tr>\n",
       "      <th>2000-04-17</th>\n",
       "      <td>1.25</td>\n",
       "      <td>1.32</td>\n",
       "      <td>1.32</td>\n",
       "      <td>1.20</td>\n",
       "      <td>42950000.0</td>\n",
       "      <td>-5.30</td>\n",
       "      <td>0</td>\n",
       "      <td>16</td>\n",
       "      <td>2</td>\n",
       "      <td>4</td>\n",
       "      <td>2000-04</td>\n",
       "    </tr>\n",
       "    <tr>\n",
       "      <th>2000-04-14</th>\n",
       "      <td>1.32</td>\n",
       "      <td>1.33</td>\n",
       "      <td>1.37</td>\n",
       "      <td>1.30</td>\n",
       "      <td>22070000.0</td>\n",
       "      <td>-4.35</td>\n",
       "      <td>4</td>\n",
       "      <td>15</td>\n",
       "      <td>2</td>\n",
       "      <td>4</td>\n",
       "      <td>2000-04</td>\n",
       "    </tr>\n",
       "    <tr>\n",
       "      <th>2000-04-13</th>\n",
       "      <td>1.38</td>\n",
       "      <td>1.44</td>\n",
       "      <td>1.45</td>\n",
       "      <td>1.36</td>\n",
       "      <td>12360000.0</td>\n",
       "      <td>-5.48</td>\n",
       "      <td>3</td>\n",
       "      <td>15</td>\n",
       "      <td>2</td>\n",
       "      <td>4</td>\n",
       "      <td>2000-04</td>\n",
       "    </tr>\n",
       "    <tr>\n",
       "      <th>2000-04-12</th>\n",
       "      <td>1.46</td>\n",
       "      <td>1.46</td>\n",
       "      <td>1.46</td>\n",
       "      <td>1.43</td>\n",
       "      <td>55580000.0</td>\n",
       "      <td>0.00</td>\n",
       "      <td>2</td>\n",
       "      <td>15</td>\n",
       "      <td>2</td>\n",
       "      <td>4</td>\n",
       "      <td>2000-04</td>\n",
       "    </tr>\n",
       "    <tr>\n",
       "      <th>2000-04-11</th>\n",
       "      <td>1.46</td>\n",
       "      <td>1.48</td>\n",
       "      <td>1.51</td>\n",
       "      <td>1.46</td>\n",
       "      <td>12640000.0</td>\n",
       "      <td>-2.67</td>\n",
       "      <td>1</td>\n",
       "      <td>15</td>\n",
       "      <td>2</td>\n",
       "      <td>4</td>\n",
       "      <td>2000-04</td>\n",
       "    </tr>\n",
       "    <tr>\n",
       "      <th>2000-04-10</th>\n",
       "      <td>1.50</td>\n",
       "      <td>1.54</td>\n",
       "      <td>1.54</td>\n",
       "      <td>1.50</td>\n",
       "      <td>9380000.0</td>\n",
       "      <td>-2.60</td>\n",
       "      <td>0</td>\n",
       "      <td>15</td>\n",
       "      <td>2</td>\n",
       "      <td>4</td>\n",
       "      <td>2000-04</td>\n",
       "    </tr>\n",
       "    <tr>\n",
       "      <th>2000-04-07</th>\n",
       "      <td>1.54</td>\n",
       "      <td>1.51</td>\n",
       "      <td>1.57</td>\n",
       "      <td>1.51</td>\n",
       "      <td>30970000.0</td>\n",
       "      <td>1.99</td>\n",
       "      <td>4</td>\n",
       "      <td>14</td>\n",
       "      <td>2</td>\n",
       "      <td>4</td>\n",
       "      <td>2000-04</td>\n",
       "    </tr>\n",
       "    <tr>\n",
       "      <th>2000-04-06</th>\n",
       "      <td>1.51</td>\n",
       "      <td>1.48</td>\n",
       "      <td>1.51</td>\n",
       "      <td>1.46</td>\n",
       "      <td>31150000.0</td>\n",
       "      <td>2.03</td>\n",
       "      <td>3</td>\n",
       "      <td>14</td>\n",
       "      <td>2</td>\n",
       "      <td>4</td>\n",
       "      <td>2000-04</td>\n",
       "    </tr>\n",
       "    <tr>\n",
       "      <th>2000-04-05</th>\n",
       "      <td>1.48</td>\n",
       "      <td>1.52</td>\n",
       "      <td>1.52</td>\n",
       "      <td>1.46</td>\n",
       "      <td>41290000.0</td>\n",
       "      <td>-5.13</td>\n",
       "      <td>2</td>\n",
       "      <td>14</td>\n",
       "      <td>2</td>\n",
       "      <td>4</td>\n",
       "      <td>2000-04</td>\n",
       "    </tr>\n",
       "  </tbody>\n",
       "</table>\n",
       "</div>"
      ],
      "text/plain": [
       "            Close  Open  High   Low         Vol   Var  DayofWeek  Weekofyear  \\\n",
       "Date                                                                           \n",
       "2000-04-26   1.28  1.30  1.30  1.26  56530000.0  2.40          2          17   \n",
       "2000-04-25   1.25  1.23  1.26  1.21  52090000.0  3.31          1          17   \n",
       "2000-04-24   1.21  1.25  1.25  1.20  44780000.0 -3.20          0          17   \n",
       "2000-04-20   1.25  1.21  1.25  1.21  23430000.0  3.31          3          16   \n",
       "2000-04-19   1.21  1.30  1.30  1.20  70470000.0 -4.72          2          16   \n",
       "2000-04-18   1.27  1.27  1.31  1.26  68250000.0  1.60          1          16   \n",
       "2000-04-17   1.25  1.32  1.32  1.20  42950000.0 -5.30          0          16   \n",
       "2000-04-14   1.32  1.33  1.37  1.30  22070000.0 -4.35          4          15   \n",
       "2000-04-13   1.38  1.44  1.45  1.36  12360000.0 -5.48          3          15   \n",
       "2000-04-12   1.46  1.46  1.46  1.43  55580000.0  0.00          2          15   \n",
       "2000-04-11   1.46  1.48  1.51  1.46  12640000.0 -2.67          1          15   \n",
       "2000-04-10   1.50  1.54  1.54  1.50   9380000.0 -2.60          0          15   \n",
       "2000-04-07   1.54  1.51  1.57  1.51  30970000.0  1.99          4          14   \n",
       "2000-04-06   1.51  1.48  1.51  1.46  31150000.0  2.03          3          14   \n",
       "2000-04-05   1.48  1.52  1.52  1.46  41290000.0 -5.13          2          14   \n",
       "\n",
       "            Quarter  month      per  \n",
       "Date                                 \n",
       "2000-04-26        2      4  2000-04  \n",
       "2000-04-25        2      4  2000-04  \n",
       "2000-04-24        2      4  2000-04  \n",
       "2000-04-20        2      4  2000-04  \n",
       "2000-04-19        2      4  2000-04  \n",
       "2000-04-18        2      4  2000-04  \n",
       "2000-04-17        2      4  2000-04  \n",
       "2000-04-14        2      4  2000-04  \n",
       "2000-04-13        2      4  2000-04  \n",
       "2000-04-12        2      4  2000-04  \n",
       "2000-04-11        2      4  2000-04  \n",
       "2000-04-10        2      4  2000-04  \n",
       "2000-04-07        2      4  2000-04  \n",
       "2000-04-06        2      4  2000-04  \n",
       "2000-04-05        2      4  2000-04  "
      ]
     },
     "execution_count": 22,
     "metadata": {},
     "output_type": "execute_result"
    }
   ],
   "source": [
    "df.tail(15)"
   ]
  },
  {
   "cell_type": "code",
   "execution_count": 23,
   "metadata": {},
   "outputs": [
    {
     "data": {
      "text/plain": [
       "(array([ 0,  1,  2,  3,  4,  5,  6,  7,  8,  9, 10, 11]),\n",
       " <a list of 12 Text major ticklabel objects>)"
      ]
     },
     "execution_count": 23,
     "metadata": {},
     "output_type": "execute_result"
    },
    {
     "data": {
      "image/png": "[encoded data removed]",
      "text/plain": [
       "<Figure size 1800x504 with 1 Axes>"
      ]
     },
     "metadata": {},
     "output_type": "display_data"
    }
   ],
   "source": [
    "fig, ax = plt.subplots(figsize=(25,7))\n",
    "sns.set(font_scale = 2)\n",
    "ax = sns.boxplot(x=\"per\", y=\"Close\",palette=sns.color_palette(\"RdYlBu\", 10), data=df[df['per'] >= \"2019-06\"], fliersize=5).invert_xaxis()\n",
    "plt.xticks(rotation=90)"
   ]
  },
  {
   "cell_type": "markdown",
   "metadata": {},
   "source": [
    "In 2019-06 until 2019-12 we could notice that there's a weak stacionarity, but in january when the coronavirus cases starting to growth the bearmarket start to act, after that we can wait for a bulltrap, that is a false signal of prosperity trend in share price."
   ]
  },
  {
   "cell_type": "markdown",
   "metadata": {},
   "source": [
    "The data analysis will continue in the next steps, let's make it a little more interesting by adding the market scenario variables through the news."
   ]
  }
 ],
 "metadata": {
  "kernelspec": {
   "display_name": "Python 3",
   "language": "python",
   "name": "python3"
  },
  "language_info": {
   "codemirror_mode": {
    "name": "ipython",
    "version": 3
   },
   "file_extension": ".py",
   "mimetype": "text/x-python",
   "name": "python",
   "nbconvert_exporter": "python",
   "pygments_lexer": "ipython3",
   "version": "3.7.3"
  }
 },
 "nbformat": 4,
 "nbformat_minor": 4
}
