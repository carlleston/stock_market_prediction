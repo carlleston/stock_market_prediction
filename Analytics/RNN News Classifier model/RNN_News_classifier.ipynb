{
 "cells": [
  {
   "cell_type": "markdown",
   "metadata": {},
   "source": [
    "# Recurrent Neural Network - RNN\n",
    "\n",
    "In order to classify the news in different scenarios, it was necessary to create a deep learning model so that we could automatically interpret, in the ETL stage, what each news item on the infomoney wanted to say.\n",
    "\n",
    "So it was necessary to create a data set that would feed the model, so I put my little knowlege of the financial market into action, after a failed attempt to use IBM Sentiment Analysis that classified everything as neutral (due to the writers' care not to express an opinion), and I classified 54 Itaú news in 3 scenarious and split it into train, test and dev dataset.\n",
    "\n",
    "The most famous model of deep learning nlp classifier is the Recurrent Neural Network, in my internship I had been trying different kind of NN models to classifier using the Glove as Embedding, where the RNN was with the best answers.\n",
    "\n",
    "There are a lot embedding ways to transform word to vectors, so i chose it due my familiarity to tunning this kind of model.\n",
    "\n",
    "\n",
    "The Glove Embedding used in this RNN is found in NILC - Núcleo Interinstitucional de Linguística Computacional\n",
    "http://www.nilc.icmc.usp.br/embeddings"
   ]
  },
  {
   "cell_type": "code",
   "execution_count": 1,
   "metadata": {},
   "outputs": [
    {
     "name": "stderr",
     "output_type": "stream",
     "text": [
      "Using TensorFlow backend.\n",
      "/home/anthony/anaconda3/lib/python3.7/site-packages/sklearn/externals/joblib/__init__.py:15: FutureWarning: sklearn.externals.joblib is deprecated in 0.21 and will be removed in 0.23. Please import this functionality directly from joblib, which can be installed with: pip install joblib. If this warning is raised when loading pickled models, you may need to re-serialize those models with scikit-learn 0.21+.\n",
      "  warnings.warn(msg, category=FutureWarning)\n"
     ]
    }
   ],
   "source": [
    "import os\n",
    "import numpy as np\n",
    "import matplotlib.pyplot as plt\n",
    "%matplotlib inline\n",
    "\n",
    "import nltk\n",
    "import unicodedata\n",
    "import collections\n",
    "import pandas as pd\n",
    "import numpy as np\n",
    "import string\n",
    "import re\n",
    "\n",
    "from numpy import random as np_random\n",
    "from nltk import word_tokenize\n",
    "from nltk.corpus import stopwords\n",
    "from keras.preprocessing.text import Tokenizer\n",
    "from keras.preprocessing.sequence import pad_sequences\n",
    "from keras.utils import to_categorical\n",
    "from keras.layers import Dense, Input, Flatten\n",
    "from keras.layers import Reshape, Dropout, Concatenate\n",
    "from keras.layers import Conv2D, MaxPool2D, Embedding\n",
    "from keras.models import Model, Sequential\n",
    "from keras.layers import Dense, Input, Dropout, LSTM, Activation, Bidirectional\n",
    "from keras.layers.embeddings import Embedding\n",
    "from sklearn import preprocessing\n",
    "from sklearn.externals import joblib  \n",
    "\n",
    "GLOVE_DIR ='glove.6B/'\n",
    "MAX_SEQUENCE_LENGTH = 50 # Maximum number of words in a sentence\n",
    "MAX_NB_WORDS = 20000 # Vocabulary size\n",
    "EMBEDDING_DIM = 50 # Dimensions of Glove word embedding \n",
    "VALIDATION_SPLIT = 0.3   # % test dataset"
   ]
  },
  {
   "cell_type": "markdown",
   "metadata": {},
   "source": [
    "## Pre-processing Functions\n",
    "One of the most important stage is pre-processing the text that will be classify, it's important we apply the same steps to train and test the model, how it will classify portugues news, I applied removing accentuation and the others commun steps such as remove punction, remove numbers, remove stopwords and lower case."
   ]
  },
  {
   "cell_type": "code",
   "execution_count": 2,
   "metadata": {},
   "outputs": [],
   "source": [
    "def strip_accents(sentence):\n",
    "    try:\n",
    "        sentence = unicode(sentence, 'utf-8')\n",
    "    except NameError: # unicode is a default on python 3 \n",
    "        pass\n",
    "\n",
    "    sentence = unicodedata.normalize('NFD', sentence)\\\n",
    "           .encode('ascii', 'ignore')\\\n",
    "           .decode(\"utf-8\")\n",
    "    return str(sentence)\n",
    "\n",
    "def remove_punction(text):\n",
    "    no_punct = \"\".join(c for c in text if c not in string.punctuation)\n",
    "    return no_punct\n",
    "\n",
    "def remove_number(text):\n",
    "    no_number = ''.join([i for i in text if not i.isdigit()])\n",
    "    return no_number\n",
    "\n",
    "def lower_caser(text):\n",
    "    return text.lower()\n",
    "\n",
    "def remove_stopwords(text):\n",
    "        tokens = word_tokenize(text)\n",
    "        tokens = [t for t in tokens if not t in stopwords.words('portuguese')]\n",
    "        return \" \".join(map(str.strip, tokens))\n"
   ]
  },
  {
   "cell_type": "code",
   "execution_count": 3,
   "metadata": {},
   "outputs": [
    {
     "name": "stdout",
     "output_type": "stream",
     "text": [
      "Indexing word vectors.\n",
      "Found 275610 word vectors.\n"
     ]
    }
   ],
   "source": [
    "print('Indexing word vectors.')\n",
    "\n",
    "embeddings_index = {}\n",
    "f = open(os.path.join(GLOVE_DIR, 'BR_glove_s50.txt'), encoding='utf-8')\n",
    "for line in f:\n",
    "    values = line.split()\n",
    "    word = values[0]\n",
    "    coefs = np.asarray(values[1:], dtype='float32')\n",
    "    embeddings_index[word] = coefs\n",
    "f.close()\n",
    "\n",
    "print('Found %s word vectors.' % len(embeddings_index))"
   ]
  },
  {
   "cell_type": "code",
   "execution_count": 4,
   "metadata": {},
   "outputs": [],
   "source": [
    "# Load the itau news\n",
    "df = pd.read_csv('balanced_itau_new.csv', sep=';')\n",
    "df.columns = ['Date','Link','Class','Text']\n",
    "df = df.sample(frac=1)"
   ]
  },
  {
   "cell_type": "code",
   "execution_count": 5,
   "metadata": {},
   "outputs": [
    {
     "data": {
      "text/html": [
       "<div>\n",
       "<style scoped>\n",
       "    .dataframe tbody tr th:only-of-type {\n",
       "        vertical-align: middle;\n",
       "    }\n",
       "\n",
       "    .dataframe tbody tr th {\n",
       "        vertical-align: top;\n",
       "    }\n",
       "\n",
       "    .dataframe thead th {\n",
       "        text-align: right;\n",
       "    }\n",
       "</style>\n",
       "<table border=\"1\" class=\"dataframe\">\n",
       "  <thead>\n",
       "    <tr style=\"text-align: right;\">\n",
       "      <th></th>\n",
       "      <th>Date</th>\n",
       "      <th>Link</th>\n",
       "      <th>Class</th>\n",
       "      <th>Text</th>\n",
       "    </tr>\n",
       "  </thead>\n",
       "  <tbody>\n",
       "    <tr>\n",
       "      <th>19</th>\n",
       "      <td>2020-05-06</td>\n",
       "      <td>https://www.infomoney.com.br/minhas-financas/i...</td>\n",
       "      <td>N</td>\n",
       "      <td>['SÃO PAULO – Após o Comitê de Políticas Monet...</td>\n",
       "    </tr>\n",
       "    <tr>\n",
       "      <th>1</th>\n",
       "      <td>2020-01-22</td>\n",
       "      <td>https://www.infomoney.com.br/mercados/itau-bba...</td>\n",
       "      <td>P</td>\n",
       "      <td>['SÃO PAULO – As recomendações seguem moviment...</td>\n",
       "    </tr>\n",
       "    <tr>\n",
       "      <th>20</th>\n",
       "      <td>2019-11-21</td>\n",
       "      <td>https://www.infomoney.com.br/negocios/itau-e-m...</td>\n",
       "      <td>N</td>\n",
       "      <td>['SÃO PAULO – O Itaú Unibanco (', ') foi multa...</td>\n",
       "    </tr>\n",
       "    <tr>\n",
       "      <th>17</th>\n",
       "      <td>2019-07-29</td>\n",
       "      <td>https://www.infomoney.com.br/negocios/itau-uni...</td>\n",
       "      <td>N</td>\n",
       "      <td>['SÃO PAULO – Além de seu ', ', o Itaú Unibanc...</td>\n",
       "    </tr>\n",
       "    <tr>\n",
       "      <th>22</th>\n",
       "      <td>2020-05-11</td>\n",
       "      <td>https://www.infomoney.com.br/mercados/bolsa-pe...</td>\n",
       "      <td>N</td>\n",
       "      <td>['SÃO PAULO — Juntas, as empresas listadas na ...</td>\n",
       "    </tr>\n",
       "  </tbody>\n",
       "</table>\n",
       "</div>"
      ],
      "text/plain": [
       "          Date                                               Link Class  \\\n",
       "19  2020-05-06  https://www.infomoney.com.br/minhas-financas/i...     N   \n",
       "1   2020-01-22  https://www.infomoney.com.br/mercados/itau-bba...     P   \n",
       "20  2019-11-21  https://www.infomoney.com.br/negocios/itau-e-m...     N   \n",
       "17  2019-07-29  https://www.infomoney.com.br/negocios/itau-uni...     N   \n",
       "22  2020-05-11  https://www.infomoney.com.br/mercados/bolsa-pe...     N   \n",
       "\n",
       "                                                 Text  \n",
       "19  ['SÃO PAULO – Após o Comitê de Políticas Monet...  \n",
       "1   ['SÃO PAULO – As recomendações seguem moviment...  \n",
       "20  ['SÃO PAULO – O Itaú Unibanco (', ') foi multa...  \n",
       "17  ['SÃO PAULO – Além de seu ', ', o Itaú Unibanc...  \n",
       "22  ['SÃO PAULO — Juntas, as empresas listadas na ...  "
      ]
     },
     "execution_count": 5,
     "metadata": {},
     "output_type": "execute_result"
    }
   ],
   "source": [
    "df.head()"
   ]
  },
  {
   "cell_type": "markdown",
   "metadata": {},
   "source": [
    "## Balancing the dataset\n",
    "\n",
    "I balanced the scenarios of the train and test dataset, so I'm using 34 Itaú's news in this stage and 19 in the test dataset, but it will a little far from the ideal because I needed 11 Neutral(NN) news, so I chose to leave it in train dataset."
   ]
  },
  {
   "cell_type": "code",
   "execution_count": 6,
   "metadata": {},
   "outputs": [
    {
     "data": {
      "text/html": [
       "<div>\n",
       "<style scoped>\n",
       "    .dataframe tbody tr th:only-of-type {\n",
       "        vertical-align: middle;\n",
       "    }\n",
       "\n",
       "    .dataframe tbody tr th {\n",
       "        vertical-align: top;\n",
       "    }\n",
       "\n",
       "    .dataframe thead th {\n",
       "        text-align: right;\n",
       "    }\n",
       "</style>\n",
       "<table border=\"1\" class=\"dataframe\">\n",
       "  <thead>\n",
       "    <tr style=\"text-align: right;\">\n",
       "      <th></th>\n",
       "      <th>Class</th>\n",
       "      <th>Freq</th>\n",
       "    </tr>\n",
       "  </thead>\n",
       "  <tbody>\n",
       "    <tr>\n",
       "      <th>0</th>\n",
       "      <td>N</td>\n",
       "      <td>15</td>\n",
       "    </tr>\n",
       "    <tr>\n",
       "      <th>1</th>\n",
       "      <td>P</td>\n",
       "      <td>15</td>\n",
       "    </tr>\n",
       "    <tr>\n",
       "      <th>2</th>\n",
       "      <td>NN</td>\n",
       "      <td>4</td>\n",
       "    </tr>\n",
       "  </tbody>\n",
       "</table>\n",
       "</div>"
      ],
      "text/plain": [
       "  Class  Freq\n",
       "0     N    15\n",
       "1     P    15\n",
       "2    NN     4"
      ]
     },
     "execution_count": 6,
     "metadata": {},
     "output_type": "execute_result"
    }
   ],
   "source": [
    "#### Bar columns of the frequency\n",
    "Freq_intents = df.groupby(['Class']).size().reset_index(name = 'Freq')\n",
    "Freq_intents= Freq_intents.sort_values(['Freq'], ascending=False)\n",
    "Freq_intents = Freq_intents.reset_index()\n",
    "del Freq_intents['index']     \n",
    "Freq_intents.head(10)"
   ]
  },
  {
   "cell_type": "code",
   "execution_count": 7,
   "metadata": {},
   "outputs": [
    {
     "data": {
      "image/png": "[encoded data removed]",
      "text/plain": [
       "<Figure size 432x288 with 1 Axes>"
      ]
     },
     "metadata": {
      "needs_background": "light"
     },
     "output_type": "display_data"
    }
   ],
   "source": [
    "height = Freq_intents['Freq']\n",
    "bars = Freq_intents['Class']\n",
    "y_pos = np.arange(len(bars))\n",
    "plt.bar(y_pos, height, color=['darkblue','orange'])\n",
    "plt.xlabel('Intenções',fontsize=20)\n",
    "plt.rcParams['figure.figsize'] = (25,7)\n",
    "plt.ylabel('Frequência', fontsize=15)\n",
    "plt.xticks(y_pos, bars, rotation=90, fontsize=10)\n",
    "plt.title(\"Imbalanced classes\", fontsize=20)\n",
    "plt.show()"
   ]
  },
  {
   "cell_type": "markdown",
   "metadata": {},
   "source": [
    "## Pre-processing"
   ]
  },
  {
   "cell_type": "markdown",
   "metadata": {},
   "source": [
    "This process is divided in two stages, the Data Cleansing that aim to clear the texts, removing the numbers, stopwords, transforming in to lower case, removing accents and punctuation. All this steps will ensure to create a correct word embedding in the next stage.  \n",
    "\n",
    "In the Features engineering stage, it will start tokenizing the text, so that split the text into words, and the next step is the pad sequences, where the text list splitted in words will be transformed into a 2D numpy array. So each word will be exchange to a vector with 50 dimensions creating the Word embedding. Gather all the word embedding news created we build the Embedding matrix that will be the input for the RNN model.\n",
    "\n",
    "It's very important to understand it, due it's considered state of the art, it will be easily to understand all the other Neural network with this concept clear in your mind.\n",
    "\n",
    "![](preproc.png)"
   ]
  },
  {
   "cell_type": "markdown",
   "metadata": {},
   "source": [
    "If you are interested I recommend to watch the videos sequence: https://www.youtube.com/playlist?list=PLhWB2ZsrULv-wEM8JDKA1zk8_2Lc88I-s  \n",
    "\n",
    "This videos are part of the Coursera Andrew Ng' course, that I strongly recommend, in: https://www.coursera.org/specializations/deep-learning "
   ]
  },
  {
   "cell_type": "code",
   "execution_count": 8,
   "metadata": {},
   "outputs": [],
   "source": [
    "df['Text'] = df['Text'].apply(remove_number)\n",
    "df['Text'] = df['Text'].apply(remove_stopwords)\n",
    "df['Text'] = df['Text'].apply(lower_caser)\n",
    "df['Text'] = df['Text'].apply(strip_accents)\n",
    "df['Text'] = df['Text'].apply(remove_punction)\n",
    "df = df.reset_index(drop=True)"
   ]
  },
  {
   "cell_type": "code",
   "execution_count": 9,
   "metadata": {},
   "outputs": [
    {
     "data": {
      "text/html": [
       "<div>\n",
       "<style scoped>\n",
       "    .dataframe tbody tr th:only-of-type {\n",
       "        vertical-align: middle;\n",
       "    }\n",
       "\n",
       "    .dataframe tbody tr th {\n",
       "        vertical-align: top;\n",
       "    }\n",
       "\n",
       "    .dataframe thead th {\n",
       "        text-align: right;\n",
       "    }\n",
       "</style>\n",
       "<table border=\"1\" class=\"dataframe\">\n",
       "  <thead>\n",
       "    <tr style=\"text-align: right;\">\n",
       "      <th></th>\n",
       "      <th>Date</th>\n",
       "      <th>Link</th>\n",
       "      <th>Class</th>\n",
       "      <th>Text</th>\n",
       "    </tr>\n",
       "  </thead>\n",
       "  <tbody>\n",
       "    <tr>\n",
       "      <th>0</th>\n",
       "      <td>2020-05-06</td>\n",
       "      <td>https://www.infomoney.com.br/minhas-financas/i...</td>\n",
       "      <td>N</td>\n",
       "      <td>sao paulo  apos comite politicas monetarias  ...</td>\n",
       "    </tr>\n",
       "    <tr>\n",
       "      <th>1</th>\n",
       "      <td>2020-01-22</td>\n",
       "      <td>https://www.infomoney.com.br/mercados/itau-bba...</td>\n",
       "      <td>P</td>\n",
       "      <td>sao paulo  as recomendacoes seguem movimentan...</td>\n",
       "    </tr>\n",
       "    <tr>\n",
       "      <th>2</th>\n",
       "      <td>2019-11-21</td>\n",
       "      <td>https://www.infomoney.com.br/negocios/itau-e-m...</td>\n",
       "      <td>N</td>\n",
       "      <td>sao paulo  o itau unibanco      multado r   b...</td>\n",
       "    </tr>\n",
       "    <tr>\n",
       "      <th>3</th>\n",
       "      <td>2019-07-29</td>\n",
       "      <td>https://www.infomoney.com.br/negocios/itau-uni...</td>\n",
       "      <td>N</td>\n",
       "      <td>sao paulo  alem     itau unibanco      anunci...</td>\n",
       "    </tr>\n",
       "    <tr>\n",
       "      <th>4</th>\n",
       "      <td>2020-05-11</td>\n",
       "      <td>https://www.infomoney.com.br/mercados/bolsa-pe...</td>\n",
       "      <td>N</td>\n",
       "      <td>sao paulo  juntas  empresas listadas b perder...</td>\n",
       "    </tr>\n",
       "  </tbody>\n",
       "</table>\n",
       "</div>"
      ],
      "text/plain": [
       "         Date                                               Link Class  \\\n",
       "0  2020-05-06  https://www.infomoney.com.br/minhas-financas/i...     N   \n",
       "1  2020-01-22  https://www.infomoney.com.br/mercados/itau-bba...     P   \n",
       "2  2019-11-21  https://www.infomoney.com.br/negocios/itau-e-m...     N   \n",
       "3  2019-07-29  https://www.infomoney.com.br/negocios/itau-uni...     N   \n",
       "4  2020-05-11  https://www.infomoney.com.br/mercados/bolsa-pe...     N   \n",
       "\n",
       "                                                Text  \n",
       "0   sao paulo  apos comite politicas monetarias  ...  \n",
       "1   sao paulo  as recomendacoes seguem movimentan...  \n",
       "2   sao paulo  o itau unibanco      multado r   b...  \n",
       "3   sao paulo  alem     itau unibanco      anunci...  \n",
       "4   sao paulo  juntas  empresas listadas b perder...  "
      ]
     },
     "execution_count": 9,
     "metadata": {},
     "output_type": "execute_result"
    }
   ],
   "source": [
    "df.head()"
   ]
  },
  {
   "cell_type": "code",
   "execution_count": 10,
   "metadata": {},
   "outputs": [],
   "source": [
    "#### Training dataset\n",
    "texts = df['Text'][:29]\n",
    "labels = df['Class'][:29]\n",
    "\n",
    "#### Test dataset\n",
    "test_texts = df['Text'][29:]\n",
    "test_labels = df['Class'][29:]\n",
    "\n",
    "# Label Encoding: converting text labels into the integers\n",
    "\n",
    "\n",
    "train_le = preprocessing.LabelEncoder()                                # creating a labelencoder\n",
    "train_le.fit(labels)                                                   # Array with the intents (labels, it works like Unique function\n",
    "\n",
    "joblib.dump(train_le, 'label_encoder.pkl')                              # Save the label encoder\n",
    "\n",
    "labels = train_le.transform(labels)                                         \n",
    "test_labels = train_le.transform(test_labels)\n",
    "\n",
    "label_dict = dict(zip(list(train_le.classes_), train_le.transform(list(train_le.classes_))))              ### create a dic \"label0 : 0\n",
    "# print(label_dict)        # show all the labels"
   ]
  },
  {
   "cell_type": "markdown",
   "metadata": {},
   "source": [
    "#### Tokenizing text and creating word index"
   ]
  },
  {
   "cell_type": "code",
   "execution_count": 11,
   "metadata": {},
   "outputs": [
    {
     "name": "stdout",
     "output_type": "stream",
     "text": [
      "Found 3537 unique tokens.\n",
      "Shape of data tensor: (29, 50)\n",
      "Shape of label tensor: (29, 3)\n",
      "Preparing embedding matrix.\n"
     ]
    }
   ],
   "source": [
    "tokenizer = Tokenizer(num_words=MAX_NB_WORDS)\n",
    "tokenizer.fit_on_texts(texts)\n",
    "sequences = tokenizer.texts_to_sequences(texts)\n",
    "\n",
    "word_index = tokenizer.word_index\n",
    "print('Found %s unique tokens.' % len(word_index))\n",
    "\n",
    "data = pad_sequences(sequences, maxlen=MAX_SEQUENCE_LENGTH)\n",
    "\n",
    "labels = to_categorical(np.asarray(labels))             \n",
    "print('Shape of data tensor:', data.shape)\n",
    "print('Shape of label tensor:', labels.shape)\n",
    "\n",
    "# split the data into a training set and a validation set\n",
    "indices = np.arange(data.shape[0])                 \n",
    "np.random.shuffle(indices)                         \n",
    "data = data[indices]                               \n",
    "labels = labels[indices]                           \n",
    "num_validation_samples = int(VALIDATION_SPLIT * data.shape[0])\n",
    "\n",
    "x_train = data[:-num_validation_samples]\n",
    "y_train = labels[:-num_validation_samples]\n",
    "x_val = data[-num_validation_samples:]\n",
    "y_val = labels[-num_validation_samples:]\n",
    "\n",
    "print('Preparing embedding matrix.')"
   ]
  },
  {
   "cell_type": "code",
   "execution_count": 12,
   "metadata": {},
   "outputs": [],
   "source": [
    "i = len(word_index) + 1\n",
    "j = EMBEDDING_DIM\n",
    "num_words = min(MAX_NB_WORDS, len(word_index))\n",
    "embedding_matrix = np.random.randn(i, j)*np.sqrt(2/(49))   ## I will use relu in first hidden layers, so it is recommended to use this multiplier in the random initialize\n",
    "for word, i in word_index.items():\n",
    "    embedding_vector = embeddings_index.get(word)\n",
    "    if embedding_vector is not None:\n",
    "        # words not found in embedding (glove) index will be all-zeros.\n",
    "        embedding_matrix[i] = embedding_vector[0:50]"
   ]
  },
  {
   "cell_type": "markdown",
   "metadata": {},
   "source": [
    "## Creating the Sequential model\n",
    "\n",
    "In this RNN model I create it abusing of the regularizations, to each perceptron of activation function I put a regulation in sequence, so the configuration is:  \n",
    "\n",
    "1 - Activation function Relu;  \n",
    "2 - Regularization L1 to remove the features less important;  \n",
    "3 - Activation function bidirectional Long Short Term Memory(LSTM) with recurrent dropout of 0.1;  \n",
    "4 - Regularization Dropout of 0.3(keep-probability), it's necessary to cut off randomly the perceptron, the goal is in each iteration run a different model;  \n",
    "5 - Activation function LSTM;  \n",
    "6 - Activation function Relu;  \n",
    "7 - Regularization Dropout of 0.3(keep-probability);  \n",
    "8 - And the output layer of multi-class classification needs to be a **softmax**;  \n",
    "\n",
    "I will leave a reference for more details:  \n",
    "\n",
    "Multi-class classification: https://towardsdatascience.com/multi-label-image-classification-with-neural-network-keras-ddc1ab1afede  \n",
    "\n",
    "Regularization Droput: https://medium.com/@amarbudhiraja/https-medium-com-amarbudhiraja-learning-less-to-learn-better-dropout-in-deep-machine-learning-74334da4bfc5  \n",
    "\n",
    "Regularization L1 and L2: https://towardsdatascience.com/l1-and-l2-regularization-methods-ce25e7fc831c  \n",
    "\n",
    "Activation Functions: https://medium.com/the-theory-of-everything/understanding-activation-functions-in-neural-networks-9491262884e0  \n",
    "\n"
   ]
  },
  {
   "cell_type": "code",
   "execution_count": 13,
   "metadata": {},
   "outputs": [
    {
     "name": "stdout",
     "output_type": "stream",
     "text": [
      "Model: \"sequential_1\"\n",
      "_________________________________________________________________\n",
      "Layer (type)                 Output Shape              Param #   \n",
      "=================================================================\n",
      "embedding_1 (Embedding)      (None, None, 50)          176900    \n",
      "_________________________________________________________________\n",
      "dense_1 (Dense)              (None, None, 64)          3264      \n",
      "_________________________________________________________________\n",
      "dense_2 (Dense)              (None, None, 32)          2080      \n",
      "_________________________________________________________________\n",
      "bidirectional_1 (Bidirection (None, None, 256)         164864    \n",
      "_________________________________________________________________\n",
      "dropout_1 (Dropout)          (None, None, 256)         0         \n",
      "_________________________________________________________________\n",
      "lstm_2 (LSTM)                (None, 128)               197120    \n",
      "_________________________________________________________________\n",
      "dense_3 (Dense)              (None, 64)                8256      \n",
      "_________________________________________________________________\n",
      "dropout_2 (Dropout)          (None, 64)                0         \n",
      "_________________________________________________________________\n",
      "dense_4 (Dense)              (None, 3)                 195       \n",
      "=================================================================\n",
      "Total params: 552,679\n",
      "Trainable params: 552,679\n",
      "Non-trainable params: 0\n",
      "_________________________________________________________________\n"
     ]
    }
   ],
   "source": [
    "from keras.layers import Dense\n",
    "from keras.regularizers import l2\n",
    "from keras.regularizers import l1\n",
    "\n",
    "embedding_dim=len(embeddings_index['o'])\n",
    "\n",
    "model = Sequential()\n",
    "model.add(Embedding(num_words+1, embedding_dim, trainable=True, weights=[embedding_matrix]))\n",
    "model.add(Dense(64, activation='relu'))\n",
    "model.add(Dense(32, kernel_regularizer=l1(0.01), bias_regularizer=l1(0.01)))\n",
    "model.add(Bidirectional(LSTM(128, return_sequences=True, recurrent_dropout=0.1, dropout=0.1), 'concat'))\n",
    "model.add(Dropout(0.3))\n",
    "model.add(LSTM(128, return_sequences=False, recurrent_dropout=0.1, dropout=0.1))\n",
    "model.add(Dense(64, activation='relu'))\n",
    "model.add(Dropout(0.3))\n",
    "model.add(Dense(labels.shape[1], activation='softmax'))\n",
    "model.summary()"
   ]
  },
  {
   "cell_type": "markdown",
   "metadata": {},
   "source": [
    "## Optimization - Gradient Descent\n",
    "In the cell below will be defined the optmization method to reduce the cost function, It measure how well the algorithm is going, so despite of it is one line, it's very important and a **priority**. \n",
    "\n",
    "The goal is minimize the cost function, reducing the model's error, trying differents Weights and Bias parameters, so it will find the Learning rate that best converges to the minimum local (or minimum global in the best case).\n",
    "\n",
    "There are 3 most famaous kinds of Gradient Descent: Momentum, RMSprop and ADAM\n",
    "\n",
    "I prefer chose the ADAM (Adaptive Moment Optimization) that combines the RMSprop+Momentum, where it was the best to my model, but it can change in different models/projects. In below I will leave a link with the 3 kinds GD comparation, where the best was the Momentum.\n",
    "\n",
    "https://blog.paperspace.com/intro-to-optimization-momentum-rmsprop-adam/#:~:text=So%20far%2C%20we've%20seen,Here%20are%20the%20update%20equations.\n",
    "\n"
   ]
  },
  {
   "cell_type": "code",
   "execution_count": 14,
   "metadata": {},
   "outputs": [],
   "source": [
    "model.compile(loss='categorical_crossentropy', optimizer='adam', metrics=['acc'])"
   ]
  },
  {
   "cell_type": "markdown",
   "metadata": {},
   "source": [
    "### Training the Model"
   ]
  },
  {
   "cell_type": "code",
   "execution_count": 15,
   "metadata": {},
   "outputs": [
    {
     "name": "stderr",
     "output_type": "stream",
     "text": [
      "/home/anthony/anaconda3/lib/python3.7/site-packages/tensorflow/python/framework/indexed_slices.py:434: UserWarning: Converting sparse IndexedSlices to a dense Tensor of unknown shape. This may consume a large amount of memory.\n",
      "  \"Converting sparse IndexedSlices to a dense Tensor of unknown shape. \"\n"
     ]
    },
    {
     "name": "stdout",
     "output_type": "stream",
     "text": [
      "Train on 21 samples, validate on 8 samples\n",
      "Epoch 1/100\n",
      "21/21 [==============================] - 1s 70ms/step - loss: 3.6864 - acc: 0.2381 - val_loss: 3.6076 - val_acc: 0.3750\n",
      "Epoch 2/100\n",
      "21/21 [==============================] - 0s 4ms/step - loss: 3.6029 - acc: 0.3810 - val_loss: 3.5634 - val_acc: 0.5000\n",
      "Epoch 3/100\n",
      "21/21 [==============================] - 0s 4ms/step - loss: 3.5275 - acc: 0.4762 - val_loss: 3.5342 - val_acc: 0.2500\n",
      "Epoch 4/100\n",
      "21/21 [==============================] - 0s 5ms/step - loss: 3.5411 - acc: 0.2381 - val_loss: 3.5137 - val_acc: 0.2500\n",
      "Epoch 5/100\n",
      "21/21 [==============================] - 0s 5ms/step - loss: 3.4770 - acc: 0.3810 - val_loss: 3.4821 - val_acc: 0.5000\n",
      "Epoch 6/100\n",
      "21/21 [==============================] - 0s 4ms/step - loss: 3.4869 - acc: 0.3810 - val_loss: 3.4451 - val_acc: 0.5000\n",
      "Epoch 7/100\n",
      "21/21 [==============================] - 0s 5ms/step - loss: 3.4206 - acc: 0.3333 - val_loss: 3.4163 - val_acc: 0.6250\n",
      "Epoch 8/100\n",
      "21/21 [==============================] - 0s 5ms/step - loss: 3.3779 - acc: 0.4286 - val_loss: 3.4001 - val_acc: 0.6250\n",
      "Epoch 9/100\n",
      "21/21 [==============================] - 0s 4ms/step - loss: 3.3452 - acc: 0.5238 - val_loss: 3.4058 - val_acc: 0.3750\n",
      "Epoch 10/100\n",
      "21/21 [==============================] - 0s 5ms/step - loss: 3.3255 - acc: 0.3810 - val_loss: 3.4099 - val_acc: 0.5000\n",
      "Epoch 11/100\n",
      "21/21 [==============================] - 0s 4ms/step - loss: 3.3239 - acc: 0.4286 - val_loss: 3.4098 - val_acc: 0.3750\n",
      "Epoch 12/100\n",
      "21/21 [==============================] - 0s 4ms/step - loss: 3.3191 - acc: 0.3333 - val_loss: 3.3953 - val_acc: 0.3750\n",
      "Epoch 13/100\n",
      "21/21 [==============================] - 0s 5ms/step - loss: 3.1632 - acc: 0.7143 - val_loss: 3.3622 - val_acc: 0.2500\n",
      "Epoch 14/100\n",
      "21/21 [==============================] - 0s 5ms/step - loss: 3.0913 - acc: 0.7143 - val_loss: 3.3225 - val_acc: 0.3750\n",
      "Epoch 15/100\n",
      "21/21 [==============================] - 0s 4ms/step - loss: 3.0736 - acc: 0.4762 - val_loss: 3.2991 - val_acc: 0.3750\n",
      "Epoch 16/100\n",
      "21/21 [==============================] - 0s 6ms/step - loss: 3.0210 - acc: 0.6190 - val_loss: 3.3007 - val_acc: 0.3750\n",
      "Epoch 17/100\n",
      "21/21 [==============================] - 0s 5ms/step - loss: 2.9300 - acc: 0.8571 - val_loss: 3.3097 - val_acc: 0.2500\n",
      "Epoch 18/100\n",
      "21/21 [==============================] - 0s 5ms/step - loss: 2.9011 - acc: 0.7619 - val_loss: 3.3252 - val_acc: 0.2500\n",
      "Epoch 19/100\n",
      "21/21 [==============================] - 0s 5ms/step - loss: 2.8718 - acc: 0.7143 - val_loss: 3.3465 - val_acc: 0.3750\n",
      "Epoch 20/100\n",
      "21/21 [==============================] - 0s 5ms/step - loss: 2.7664 - acc: 0.8095 - val_loss: 3.3330 - val_acc: 0.2500\n",
      "Epoch 21/100\n",
      "21/21 [==============================] - 0s 5ms/step - loss: 2.6624 - acc: 0.9524 - val_loss: 3.3779 - val_acc: 0.3750\n",
      "Epoch 22/100\n",
      "21/21 [==============================] - 0s 4ms/step - loss: 2.6385 - acc: 0.8571 - val_loss: 3.4330 - val_acc: 0.2500\n",
      "Epoch 23/100\n",
      "21/21 [==============================] - 0s 5ms/step - loss: 2.5338 - acc: 0.9048 - val_loss: 3.5186 - val_acc: 0.2500\n",
      "Epoch 24/100\n",
      "21/21 [==============================] - 0s 5ms/step - loss: 2.4360 - acc: 0.9524 - val_loss: 3.6013 - val_acc: 0.2500\n",
      "Epoch 25/100\n",
      "21/21 [==============================] - 0s 5ms/step - loss: 2.5191 - acc: 0.9524 - val_loss: 3.7927 - val_acc: 0.3750\n",
      "Epoch 26/100\n",
      "21/21 [==============================] - 0s 5ms/step - loss: 2.5434 - acc: 0.9048 - val_loss: 3.8333 - val_acc: 0.2500\n",
      "Epoch 27/100\n",
      "21/21 [==============================] - 0s 5ms/step - loss: 2.3437 - acc: 1.0000 - val_loss: 3.8966 - val_acc: 0.2500\n",
      "Epoch 28/100\n",
      "21/21 [==============================] - 0s 5ms/step - loss: 2.3366 - acc: 0.9048 - val_loss: 3.9456 - val_acc: 0.2500\n",
      "Epoch 29/100\n",
      "21/21 [==============================] - 0s 5ms/step - loss: 2.3186 - acc: 0.9524 - val_loss: 3.9598 - val_acc: 0.2500\n",
      "Epoch 30/100\n",
      "21/21 [==============================] - 0s 4ms/step - loss: 2.2574 - acc: 0.9524 - val_loss: 4.1004 - val_acc: 0.2500\n",
      "Epoch 31/100\n",
      "21/21 [==============================] - 0s 4ms/step - loss: 2.3130 - acc: 0.9048 - val_loss: 4.1981 - val_acc: 0.2500\n",
      "Epoch 32/100\n",
      "21/21 [==============================] - 0s 5ms/step - loss: 2.1908 - acc: 0.9524 - val_loss: 4.2048 - val_acc: 0.1250\n",
      "Epoch 33/100\n",
      "21/21 [==============================] - 0s 4ms/step - loss: 2.1498 - acc: 1.0000 - val_loss: 4.3545 - val_acc: 0.1250\n",
      "Epoch 34/100\n",
      "21/21 [==============================] - 0s 5ms/step - loss: 2.2683 - acc: 0.9524 - val_loss: 4.4091 - val_acc: 0.1250\n",
      "Epoch 35/100\n",
      "21/21 [==============================] - 0s 5ms/step - loss: 2.1628 - acc: 0.9524 - val_loss: 4.4196 - val_acc: 0.1250\n",
      "Epoch 36/100\n",
      "21/21 [==============================] - 0s 4ms/step - loss: 2.0581 - acc: 1.0000 - val_loss: 4.6815 - val_acc: 0.2500\n",
      "Epoch 37/100\n",
      "21/21 [==============================] - 0s 5ms/step - loss: 2.2394 - acc: 0.9524 - val_loss: 4.5453 - val_acc: 0.2500\n",
      "Epoch 38/100\n",
      "21/21 [==============================] - 0s 5ms/step - loss: 2.1042 - acc: 0.9524 - val_loss: 4.5475 - val_acc: 0.2500\n",
      "Epoch 39/100\n",
      "21/21 [==============================] - 0s 5ms/step - loss: 2.0433 - acc: 1.0000 - val_loss: 4.6151 - val_acc: 0.1250\n",
      "Epoch 40/100\n",
      "21/21 [==============================] - 0s 7ms/step - loss: 2.0057 - acc: 1.0000 - val_loss: 4.7563 - val_acc: 0.1250\n",
      "Epoch 41/100\n",
      "21/21 [==============================] - 0s 5ms/step - loss: 2.0055 - acc: 1.0000 - val_loss: 4.8326 - val_acc: 0.1250\n",
      "Epoch 42/100\n",
      "21/21 [==============================] - 0s 4ms/step - loss: 2.0202 - acc: 1.0000 - val_loss: 4.7707 - val_acc: 0.1250\n",
      "Epoch 43/100\n",
      "21/21 [==============================] - 0s 5ms/step - loss: 1.9841 - acc: 1.0000 - val_loss: 4.6279 - val_acc: 0.1250\n",
      "Epoch 44/100\n",
      "21/21 [==============================] - 0s 5ms/step - loss: 1.9697 - acc: 1.0000 - val_loss: 4.4022 - val_acc: 0.1250\n",
      "Epoch 45/100\n",
      "21/21 [==============================] - 0s 5ms/step - loss: 1.9494 - acc: 1.0000 - val_loss: 4.2486 - val_acc: 0.3750\n",
      "Epoch 46/100\n",
      "21/21 [==============================] - 0s 5ms/step - loss: 1.9362 - acc: 1.0000 - val_loss: 4.2340 - val_acc: 0.5000\n",
      "Epoch 47/100\n",
      "21/21 [==============================] - 0s 5ms/step - loss: 1.9279 - acc: 1.0000 - val_loss: 4.2274 - val_acc: 0.5000\n",
      "Epoch 48/100\n",
      "21/21 [==============================] - 0s 5ms/step - loss: 1.9084 - acc: 1.0000 - val_loss: 4.2272 - val_acc: 0.5000\n",
      "Epoch 49/100\n",
      "21/21 [==============================] - 0s 5ms/step - loss: 1.8967 - acc: 1.0000 - val_loss: 4.2245 - val_acc: 0.5000\n",
      "Epoch 50/100\n",
      "21/21 [==============================] - 0s 5ms/step - loss: 1.9034 - acc: 1.0000 - val_loss: 3.9983 - val_acc: 0.5000\n",
      "Epoch 51/100\n",
      "21/21 [==============================] - 0s 5ms/step - loss: 1.8817 - acc: 1.0000 - val_loss: 3.7930 - val_acc: 0.5000\n",
      "Epoch 52/100\n",
      "21/21 [==============================] - 0s 7ms/step - loss: 1.8636 - acc: 1.0000 - val_loss: 3.7587 - val_acc: 0.3750\n",
      "Epoch 53/100\n",
      "21/21 [==============================] - 0s 5ms/step - loss: 1.8536 - acc: 1.0000 - val_loss: 3.8722 - val_acc: 0.5000\n",
      "Epoch 54/100\n",
      "21/21 [==============================] - 0s 5ms/step - loss: 1.8416 - acc: 1.0000 - val_loss: 4.0558 - val_acc: 0.3750\n",
      "Epoch 55/100\n",
      "21/21 [==============================] - 0s 5ms/step - loss: 1.9381 - acc: 0.9524 - val_loss: 3.9654 - val_acc: 0.3750\n",
      "Epoch 56/100\n",
      "21/21 [==============================] - 0s 5ms/step - loss: 1.8206 - acc: 1.0000 - val_loss: 3.9815 - val_acc: 0.6250\n",
      "Epoch 57/100\n",
      "21/21 [==============================] - 0s 4ms/step - loss: 1.9776 - acc: 0.9524 - val_loss: 4.2870 - val_acc: 0.3750\n",
      "Epoch 58/100\n",
      "21/21 [==============================] - 0s 5ms/step - loss: 1.8331 - acc: 1.0000 - val_loss: 4.8469 - val_acc: 0.2500\n",
      "Epoch 59/100\n",
      "21/21 [==============================] - 0s 5ms/step - loss: 1.7950 - acc: 1.0000 - val_loss: 5.1184 - val_acc: 0.2500\n",
      "Epoch 60/100\n",
      "21/21 [==============================] - 0s 5ms/step - loss: 1.7878 - acc: 1.0000 - val_loss: 5.3467 - val_acc: 0.2500\n",
      "Epoch 61/100\n",
      "21/21 [==============================] - 0s 6ms/step - loss: 1.7800 - acc: 1.0000 - val_loss: 5.5449 - val_acc: 0.1250\n",
      "Epoch 62/100\n",
      "21/21 [==============================] - 0s 5ms/step - loss: 1.7687 - acc: 1.0000 - val_loss: 5.6440 - val_acc: 0.1250\n",
      "Epoch 63/100\n",
      "21/21 [==============================] - 0s 6ms/step - loss: 1.7614 - acc: 1.0000 - val_loss: 5.6840 - val_acc: 0.1250\n",
      "Epoch 64/100\n",
      "21/21 [==============================] - 0s 6ms/step - loss: 1.7557 - acc: 1.0000 - val_loss: 5.7101 - val_acc: 0.1250\n",
      "Epoch 65/100\n",
      "21/21 [==============================] - 0s 6ms/step - loss: 1.7790 - acc: 1.0000 - val_loss: 5.9242 - val_acc: 0.1250\n",
      "Epoch 66/100\n",
      "21/21 [==============================] - 0s 6ms/step - loss: 1.7672 - acc: 1.0000 - val_loss: 6.1709 - val_acc: 0.0000e+00\n",
      "Epoch 67/100\n",
      "21/21 [==============================] - 0s 6ms/step - loss: 1.7312 - acc: 1.0000 - val_loss: 6.1322 - val_acc: 0.0000e+00\n",
      "Epoch 68/100\n",
      "21/21 [==============================] - 0s 6ms/step - loss: 1.7252 - acc: 1.0000 - val_loss: 6.0219 - val_acc: 0.1250\n",
      "Epoch 69/100\n",
      "21/21 [==============================] - 0s 6ms/step - loss: 1.7112 - acc: 1.0000 - val_loss: 5.8530 - val_acc: 0.1250\n",
      "Epoch 70/100\n",
      "21/21 [==============================] - 0s 6ms/step - loss: 1.7674 - acc: 0.9524 - val_loss: 6.1412 - val_acc: 0.0000e+00\n",
      "Epoch 71/100\n",
      "21/21 [==============================] - 0s 6ms/step - loss: 1.6948 - acc: 1.0000 - val_loss: 5.8110 - val_acc: 0.1250\n",
      "Epoch 72/100\n",
      "21/21 [==============================] - 0s 6ms/step - loss: 1.6821 - acc: 1.0000 - val_loss: 5.5746 - val_acc: 0.2500\n",
      "Epoch 73/100\n",
      "21/21 [==============================] - 0s 6ms/step - loss: 1.6916 - acc: 1.0000 - val_loss: 4.9362 - val_acc: 0.3750\n",
      "Epoch 74/100\n",
      "21/21 [==============================] - 0s 6ms/step - loss: 1.6653 - acc: 1.0000 - val_loss: 4.4130 - val_acc: 0.2500\n",
      "Epoch 75/100\n",
      "21/21 [==============================] - 0s 7ms/step - loss: 1.6735 - acc: 1.0000 - val_loss: 4.2347 - val_acc: 0.3750\n",
      "Epoch 76/100\n",
      "21/21 [==============================] - 0s 7ms/step - loss: 1.6544 - acc: 1.0000 - val_loss: 4.2035 - val_acc: 0.3750\n",
      "Epoch 77/100\n",
      "21/21 [==============================] - 0s 7ms/step - loss: 1.6426 - acc: 1.0000 - val_loss: 4.1971 - val_acc: 0.3750\n",
      "Epoch 78/100\n",
      "21/21 [==============================] - 0s 7ms/step - loss: 1.6355 - acc: 1.0000 - val_loss: 4.2018 - val_acc: 0.3750\n",
      "Epoch 79/100\n",
      "21/21 [==============================] - 0s 7ms/step - loss: 1.7431 - acc: 0.9524 - val_loss: 4.1710 - val_acc: 0.3750\n",
      "Epoch 80/100\n",
      "21/21 [==============================] - 0s 6ms/step - loss: 1.6158 - acc: 1.0000 - val_loss: 4.1236 - val_acc: 0.3750\n",
      "Epoch 81/100\n",
      "21/21 [==============================] - 0s 7ms/step - loss: 1.6069 - acc: 1.0000 - val_loss: 4.0909 - val_acc: 0.3750\n",
      "Epoch 82/100\n",
      "21/21 [==============================] - 0s 6ms/step - loss: 1.5997 - acc: 1.0000 - val_loss: 4.1277 - val_acc: 0.2500\n",
      "Epoch 83/100\n",
      "21/21 [==============================] - 0s 6ms/step - loss: 1.5938 - acc: 1.0000 - val_loss: 4.2221 - val_acc: 0.2500\n",
      "Epoch 84/100\n",
      "21/21 [==============================] - 0s 6ms/step - loss: 1.7542 - acc: 0.9524 - val_loss: 4.4306 - val_acc: 0.1250\n",
      "Epoch 85/100\n",
      "21/21 [==============================] - 0s 6ms/step - loss: 1.5913 - acc: 1.0000 - val_loss: 4.7774 - val_acc: 0.2500\n",
      "Epoch 86/100\n",
      "21/21 [==============================] - 0s 6ms/step - loss: 1.5681 - acc: 1.0000 - val_loss: 4.9768 - val_acc: 0.2500\n",
      "Epoch 87/100\n",
      "21/21 [==============================] - 0s 7ms/step - loss: 1.5623 - acc: 1.0000 - val_loss: 5.0562 - val_acc: 0.2500\n",
      "Epoch 88/100\n",
      "21/21 [==============================] - 0s 6ms/step - loss: 1.5529 - acc: 1.0000 - val_loss: 5.0273 - val_acc: 0.1250\n",
      "Epoch 89/100\n",
      "21/21 [==============================] - 0s 7ms/step - loss: 1.6450 - acc: 0.9524 - val_loss: 4.5710 - val_acc: 0.2500\n",
      "Epoch 90/100\n",
      "21/21 [==============================] - 0s 6ms/step - loss: 1.5355 - acc: 1.0000 - val_loss: 4.0871 - val_acc: 0.2500\n",
      "Epoch 91/100\n",
      "21/21 [==============================] - 0s 6ms/step - loss: 1.5742 - acc: 0.9524 - val_loss: 3.9870 - val_acc: 0.3750\n",
      "Epoch 92/100\n",
      "21/21 [==============================] - 0s 6ms/step - loss: 1.5734 - acc: 0.9524 - val_loss: 3.9475 - val_acc: 0.3750\n",
      "Epoch 93/100\n",
      "21/21 [==============================] - 0s 6ms/step - loss: 1.5229 - acc: 1.0000 - val_loss: 3.9130 - val_acc: 0.3750\n",
      "Epoch 94/100\n",
      "21/21 [==============================] - 0s 6ms/step - loss: 1.5135 - acc: 1.0000 - val_loss: 3.8691 - val_acc: 0.3750\n",
      "Epoch 95/100\n",
      "21/21 [==============================] - 0s 6ms/step - loss: 1.5133 - acc: 1.0000 - val_loss: 3.8616 - val_acc: 0.3750\n",
      "Epoch 96/100\n",
      "21/21 [==============================] - 0s 6ms/step - loss: 1.4924 - acc: 1.0000 - val_loss: 3.9154 - val_acc: 0.2500\n",
      "Epoch 97/100\n",
      "21/21 [==============================] - 0s 6ms/step - loss: 1.4849 - acc: 1.0000 - val_loss: 4.0100 - val_acc: 0.3750\n",
      "Epoch 98/100\n",
      "21/21 [==============================] - 0s 6ms/step - loss: 1.4762 - acc: 1.0000 - val_loss: 4.1066 - val_acc: 0.3750\n",
      "Epoch 99/100\n",
      "21/21 [==============================] - 0s 6ms/step - loss: 1.4700 - acc: 1.0000 - val_loss: 4.1962 - val_acc: 0.3750\n",
      "Epoch 100/100\n",
      "21/21 [==============================] - 0s 6ms/step - loss: 1.4616 - acc: 1.0000 - val_loss: 4.2741 - val_acc: 0.3750\n"
     ]
    }
   ],
   "source": [
    "# If you want to train a new model, uncomment the code below and run this cell\n",
    "\n",
    "history = model.fit(x_train, y_train,\n",
    "          batch_size=64,\n",
    "          epochs=100,\n",
    "          validation_data=(x_val, y_val))\n",
    "model.save('RNNModel.tflearn')"
   ]
  },
  {
   "cell_type": "code",
   "execution_count": 16,
   "metadata": {},
   "outputs": [
    {
     "data": {
      "image/png": "[encoded data removed]",
      "text/plain": [
       "<Figure size 1800x504 with 1 Axes>"
      ]
     },
     "metadata": {
      "needs_background": "light"
     },
     "output_type": "display_data"
    },
    {
     "data": {
      "image/png": "[encoded data removed]",
      "text/plain": [
       "<Figure size 1800x504 with 1 Axes>"
      ]
     },
     "metadata": {
      "needs_background": "light"
     },
     "output_type": "display_data"
    }
   ],
   "source": [
    "plt.plot(history.history['acc'])\n",
    "plt.plot(history.history['val_acc'])\n",
    "plt.title('model accuracy')\n",
    "plt.ylabel('accuracy')\n",
    "plt.xlabel('epoch')\n",
    "plt.legend(['train', 'test'], loc='lower right')\n",
    "plt.show()\n",
    "# summarize history for loss\n",
    "plt.plot(history.history['loss'])\n",
    "plt.plot(history.history['val_loss'])\n",
    "plt.title('model loss')\n",
    "plt.ylabel('loss')\n",
    "plt.xlabel('epoch')\n",
    "plt.legend(['train', 'test'], loc='upper right')\n",
    "plt.show()"
   ]
  },
  {
   "cell_type": "markdown",
   "metadata": {},
   "source": [
    "Despite the explosion of loss through the amount of epochs, with this optimization was that obtained the best F1-score in the test and dev set.\n",
    "I had been try the SGD, RMSprop, Adadelta and Nadam and my F1-score dropped to 0.2 and get a vicious model to classify everything as a positive scenarios.\n",
    "\n",
    "The keras documentation for the available optimizers: https://keras.io/api/optimizers/"
   ]
  },
  {
   "cell_type": "code",
   "execution_count": 32,
   "metadata": {},
   "outputs": [
    {
     "name": "stderr",
     "output_type": "stream",
     "text": [
      "/home/anthony/anaconda3/lib/python3.7/site-packages/tensorflow/python/framework/indexed_slices.py:434: UserWarning: Converting sparse IndexedSlices to a dense Tensor of unknown shape. This may consume a large amount of memory.\n",
      "  \"Converting sparse IndexedSlices to a dense Tensor of unknown shape. \"\n"
     ]
    }
   ],
   "source": [
    "## Loading the already trained model - if you have a model .tflearn format\n",
    "from keras.models import load_model\n",
    "model = load_model('RNNModel.tflearn')"
   ]
  },
  {
   "cell_type": "markdown",
   "metadata": {},
   "source": [
    "#### Test dataset evaluation"
   ]
  },
  {
   "cell_type": "code",
   "execution_count": 33,
   "metadata": {},
   "outputs": [],
   "source": [
    "test_sequences = tokenizer.texts_to_sequences(test_texts)\n",
    "test_input = pad_sequences(test_sequences, maxlen=MAX_SEQUENCE_LENGTH)\n",
    "\n",
    "# Get predictions\n",
    "test_predictions_probas = model.predict(test_input)\n",
    "test_predictions = test_predictions_probas.argmax(axis=-1)    #### get the prob and put the classes"
   ]
  },
  {
   "cell_type": "code",
   "execution_count": 34,
   "metadata": {},
   "outputs": [
    {
     "name": "stdout",
     "output_type": "stream",
     "text": [
      "accuracy:  0.6\n",
      "Precision, Recall and F1-Score:\n",
      "\n",
      "               precision    recall  f1-score   support\n",
      "\n",
      "           N       0.33      1.00      0.50         1\n",
      "           P       1.00      0.50      0.67         4\n",
      "\n",
      "    accuracy                           0.60         5\n",
      "   macro avg       0.67      0.75      0.58         5\n",
      "weighted avg       0.87      0.60      0.63         5\n",
      "\n"
     ]
    }
   ],
   "source": [
    "from sklearn.metrics import classification_report\n",
    "\n",
    "test_intent_predictions = train_le.inverse_transform(test_predictions)\n",
    "test_intent_original = train_le.inverse_transform(test_labels)\n",
    "\n",
    "# IT sum the number of test_intent_predictions(classe, AddToPlaylist...) equal test_intent_original and divide by total tests\n",
    "print('accuracy: ', sum(test_intent_predictions == test_intent_original) / len(test_labels))\n",
    "print(\"Precision, Recall and F1-Score:\\n\\n\", classification_report(test_intent_original, test_intent_predictions))"
   ]
  },
  {
   "cell_type": "code",
   "execution_count": 35,
   "metadata": {},
   "outputs": [],
   "source": [
    "# Função\n",
    "def RNN(Frase):\n",
    "\n",
    "    test_texts = [Frase]\n",
    "    test_sequences = tokenizer.texts_to_sequences(test_texts)\n",
    "    test_input = pad_sequences(test_sequences, maxlen=MAX_SEQUENCE_LENGTH)\n",
    "    test_predictions_probas = model.predict(test_input)\n",
    "    test_predictions = test_predictions_probas.argmax(axis=-1)\n",
    "    test_intent_predictions = train_le.inverse_transform(test_predictions)\n",
    "    test_intent_original = train_le.inverse_transform(test_labels)\n",
    "    df_probas = pd.DataFrame(test_predictions_probas)\n",
    "    df_intent = pd.DataFrame(test_intent_predictions)\n",
    "    frames = [df_probas, df_intent]\n",
    "    result = pd.concat(frames)\n",
    "    result = pd.concat([df_probas, df_intent], axis=1)\n",
    "    x = result.transpose()[0:104]     ### get the intent list\n",
    "    x.columns = ['probability']\n",
    "    x = pd.to_numeric(x['probability'][:3])\n",
    "    x = pd.DataFrame(x)\n",
    "    labels = pd.DataFrame.from_dict(label_dict,orient='index')\n",
    "    labels = labels.reset_index()\n",
    "    labels.columns = ['Labels','number']\n",
    "    result_table= labels.join(x)\n",
    "    #np.sort(result_table['probability'].values)\n",
    "    result_table = result_table.sort_values(by=['probability'], ascending = False)\n",
    "    result_table.head(5)\n",
    "    return result_table.head(5)"
   ]
  },
  {
   "cell_type": "markdown",
   "metadata": {},
   "source": [
    "## TESTING"
   ]
  },
  {
   "cell_type": "code",
   "execution_count": 36,
   "metadata": {},
   "outputs": [],
   "source": [
    "# Load the TEST itau news\n",
    "df_test = pd.read_csv('test_itau_new.csv', sep=';')\n",
    "df_test.columns = ['Date','Link','Class','Text']\n",
    "df_test = df_test.sample(frac=1)\n"
   ]
  },
  {
   "cell_type": "code",
   "execution_count": 37,
   "metadata": {},
   "outputs": [
    {
     "data": {
      "text/plain": [
       "(19, 4)"
      ]
     },
     "execution_count": 37,
     "metadata": {},
     "output_type": "execute_result"
    }
   ],
   "source": [
    "df_test.shape"
   ]
  },
  {
   "cell_type": "code",
   "execution_count": 38,
   "metadata": {},
   "outputs": [],
   "source": [
    "df_test['Text'] = df_test['Text'].apply(remove_number)\n",
    "df_test['Text'] = df_test['Text'].apply(remove_stopwords)\n",
    "df_test['Text'] = df_test['Text'].apply(lower_caser)\n",
    "df_test['Text'] = df_test['Text'].apply(strip_accents)\n",
    "df_test['Text'] = df_test['Text'].apply(remove_punction)\n",
    "df_test = df_test.reset_index(drop=True)"
   ]
  },
  {
   "cell_type": "code",
   "execution_count": 39,
   "metadata": {},
   "outputs": [],
   "source": [
    "df_test = pd.DataFrame(df_test, columns = ['Date','Link','Class','Text','RNN_Class'])"
   ]
  },
  {
   "cell_type": "code",
   "execution_count": 40,
   "metadata": {},
   "outputs": [
    {
     "name": "stderr",
     "output_type": "stream",
     "text": [
      "/home/anthony/anaconda3/lib/python3.7/site-packages/ipykernel_launcher.py:4: SettingWithCopyWarning: \n",
      "A value is trying to be set on a copy of a slice from a DataFrame\n",
      "\n",
      "See the caveats in the documentation: http://pandas.pydata.org/pandas-docs/stable/indexing.html#indexing-view-versus-copy\n",
      "  after removing the cwd from sys.path.\n",
      "/home/anthony/anaconda3/lib/python3.7/site-packages/pandas/core/indexing.py:190: SettingWithCopyWarning: \n",
      "A value is trying to be set on a copy of a slice from a DataFrame\n",
      "\n",
      "See the caveats in the documentation: http://pandas.pydata.org/pandas-docs/stable/indexing.html#indexing-view-versus-copy\n",
      "  self._setitem_with_indexer(indexer, value)\n"
     ]
    }
   ],
   "source": [
    "for i,x in enumerate(df_test.iterrows()):\n",
    "    x = RNN(df_test['Text'][i]).reset_index(drop = True)\n",
    "    pred = x['Labels'][0]\n",
    "    df_test['RNN_Class'][i] = str(pred)"
   ]
  },
  {
   "cell_type": "code",
   "execution_count": 41,
   "metadata": {},
   "outputs": [
    {
     "data": {
      "text/html": [
       "<div>\n",
       "<style scoped>\n",
       "    .dataframe tbody tr th:only-of-type {\n",
       "        vertical-align: middle;\n",
       "    }\n",
       "\n",
       "    .dataframe tbody tr th {\n",
       "        vertical-align: top;\n",
       "    }\n",
       "\n",
       "    .dataframe thead th {\n",
       "        text-align: right;\n",
       "    }\n",
       "</style>\n",
       "<table border=\"1\" class=\"dataframe\">\n",
       "  <thead>\n",
       "    <tr style=\"text-align: right;\">\n",
       "      <th></th>\n",
       "      <th>Date</th>\n",
       "      <th>Link</th>\n",
       "      <th>Class</th>\n",
       "      <th>Text</th>\n",
       "      <th>RNN_Class</th>\n",
       "    </tr>\n",
       "  </thead>\n",
       "  <tbody>\n",
       "    <tr>\n",
       "      <th>0</th>\n",
       "      <td>2020-02-10</td>\n",
       "      <td>https://www.infomoney.com.br/mercados/itau-uni...</td>\n",
       "      <td>P</td>\n",
       "      <td>sao paulo  o itau unibanco      fechou quarto...</td>\n",
       "      <td>N</td>\n",
       "    </tr>\n",
       "    <tr>\n",
       "      <th>1</th>\n",
       "      <td>2019-08-05</td>\n",
       "      <td>https://www.infomoney.com.br/mercados/lucro-de...</td>\n",
       "      <td>P</td>\n",
       "      <td>sao paulo  somados  quatro maiores bancos bra...</td>\n",
       "      <td>N</td>\n",
       "    </tr>\n",
       "    <tr>\n",
       "      <th>2</th>\n",
       "      <td>2020-04-22</td>\n",
       "      <td>https://www.infomoney.com.br/minhas-financas/i...</td>\n",
       "      <td>P</td>\n",
       "      <td>sao paulo  o itau unibanco anunciou vai prorr...</td>\n",
       "      <td>N</td>\n",
       "    </tr>\n",
       "    <tr>\n",
       "      <th>3</th>\n",
       "      <td>2019-08-14</td>\n",
       "      <td>https://www.infomoney.com.br/consumo/itau-lanc...</td>\n",
       "      <td>P</td>\n",
       "      <td>sao paulo  o itau unibanco      informou prim...</td>\n",
       "      <td>P</td>\n",
       "    </tr>\n",
       "    <tr>\n",
       "      <th>4</th>\n",
       "      <td>2020-05-04</td>\n",
       "      <td>https://www.infomoney.com.br/mercados/lucro-do...</td>\n",
       "      <td>N</td>\n",
       "      <td>sao paulo  o lucro liquido recorrente itau un...</td>\n",
       "      <td>P</td>\n",
       "    </tr>\n",
       "    <tr>\n",
       "      <th>5</th>\n",
       "      <td>2020-02-11</td>\n",
       "      <td>https://www.infomoney.com.br/mercados/ceo-do-i...</td>\n",
       "      <td>P</td>\n",
       "      <td>sao paulo  mais resultado grande banco bem re...</td>\n",
       "      <td>P</td>\n",
       "    </tr>\n",
       "    <tr>\n",
       "      <th>6</th>\n",
       "      <td>2020-01-03</td>\n",
       "      <td>https://www.infomoney.com.br/minhas-financas/c...</td>\n",
       "      <td>P</td>\n",
       "      <td>sao paulo  a partir segundafeira    bancos br...</td>\n",
       "      <td>P</td>\n",
       "    </tr>\n",
       "    <tr>\n",
       "      <th>7</th>\n",
       "      <td>2020-03-30</td>\n",
       "      <td>https://www.infomoney.com.br/minhas-financas/i...</td>\n",
       "      <td>N</td>\n",
       "      <td>o itau unibanco informa prorrogou mil contra...</td>\n",
       "      <td>N</td>\n",
       "    </tr>\n",
       "    <tr>\n",
       "      <th>8</th>\n",
       "      <td>2020-04-22</td>\n",
       "      <td>https://www.infomoney.com.br/mercados/itau-bba...</td>\n",
       "      <td>P</td>\n",
       "      <td>sao paulo  o ibovespa subiu   contar forte al...</td>\n",
       "      <td>P</td>\n",
       "    </tr>\n",
       "    <tr>\n",
       "      <th>9</th>\n",
       "      <td>2020-03-24</td>\n",
       "      <td>https://www.infomoney.com.br/mercados/itau-bba...</td>\n",
       "      <td>P</td>\n",
       "      <td>sao paulo  o itau bba cortou projecao ibovesp...</td>\n",
       "      <td>P</td>\n",
       "    </tr>\n",
       "    <tr>\n",
       "      <th>10</th>\n",
       "      <td>2020-02-03</td>\n",
       "      <td>https://www.infomoney.com.br/onde-investir/ita...</td>\n",
       "      <td>P</td>\n",
       "      <td>sao paulo  focado segmento     acoes empresas...</td>\n",
       "      <td>N</td>\n",
       "    </tr>\n",
       "    <tr>\n",
       "      <th>11</th>\n",
       "      <td>2020-04-12</td>\n",
       "      <td>https://www.infomoney.com.br/negocios/itau-uni...</td>\n",
       "      <td>P</td>\n",
       "      <td>o itau unibanco vai doar r  bilhao combate n...</td>\n",
       "      <td>P</td>\n",
       "    </tr>\n",
       "    <tr>\n",
       "      <th>12</th>\n",
       "      <td>2020-01-23</td>\n",
       "      <td>https://www.infomoney.com.br/minhas-financas/i...</td>\n",
       "      <td>N</td>\n",
       "      <td>sao paulo  o itau unibanco  maior banco brasi...</td>\n",
       "      <td>P</td>\n",
       "    </tr>\n",
       "    <tr>\n",
       "      <th>13</th>\n",
       "      <td>2019-05-13</td>\n",
       "      <td>https://www.infomoney.com.br/consumo/itau-lanc...</td>\n",
       "      <td>P</td>\n",
       "      <td>sao paulo  o itau unibanco anunciou nesta seg...</td>\n",
       "      <td>P</td>\n",
       "    </tr>\n",
       "    <tr>\n",
       "      <th>14</th>\n",
       "      <td>2020-04-06</td>\n",
       "      <td>https://www.infomoney.com.br/negocios/itau-e-b...</td>\n",
       "      <td>P</td>\n",
       "      <td>sao paulo  nessa semana  bradesco itau  dois ...</td>\n",
       "      <td>P</td>\n",
       "    </tr>\n",
       "    <tr>\n",
       "      <th>15</th>\n",
       "      <td>2019-05-10</td>\n",
       "      <td>https://www.infomoney.com.br/mercados/como-com...</td>\n",
       "      <td>P</td>\n",
       "      <td>maior banco pais  itau          costuma desta...</td>\n",
       "      <td>P</td>\n",
       "    </tr>\n",
       "    <tr>\n",
       "      <th>16</th>\n",
       "      <td>2020-04-17</td>\n",
       "      <td>https://www.infomoney.com.br/negocios/diferent...</td>\n",
       "      <td>P</td>\n",
       "      <td>sao paulo  uma consequencias atual crise novo...</td>\n",
       "      <td>P</td>\n",
       "    </tr>\n",
       "    <tr>\n",
       "      <th>17</th>\n",
       "      <td>2020-05-05</td>\n",
       "      <td>https://www.infomoney.com.br/mercados/preparad...</td>\n",
       "      <td>P</td>\n",
       "      <td>sao paulo  bem preparado guerra contra corona...</td>\n",
       "      <td>P</td>\n",
       "    </tr>\n",
       "    <tr>\n",
       "      <th>18</th>\n",
       "      <td>2020-02-05</td>\n",
       "      <td>https://www.infomoney.com.br/minhas-financas/i...</td>\n",
       "      <td>P</td>\n",
       "      <td>sao paulo  apos decisao copom desta quartafei...</td>\n",
       "      <td>P</td>\n",
       "    </tr>\n",
       "  </tbody>\n",
       "</table>\n",
       "</div>"
      ],
      "text/plain": [
       "          Date                                               Link Class  \\\n",
       "0   2020-02-10  https://www.infomoney.com.br/mercados/itau-uni...     P   \n",
       "1   2019-08-05  https://www.infomoney.com.br/mercados/lucro-de...     P   \n",
       "2   2020-04-22  https://www.infomoney.com.br/minhas-financas/i...     P   \n",
       "3   2019-08-14  https://www.infomoney.com.br/consumo/itau-lanc...     P   \n",
       "4   2020-05-04  https://www.infomoney.com.br/mercados/lucro-do...     N   \n",
       "5   2020-02-11  https://www.infomoney.com.br/mercados/ceo-do-i...     P   \n",
       "6   2020-01-03  https://www.infomoney.com.br/minhas-financas/c...     P   \n",
       "7   2020-03-30  https://www.infomoney.com.br/minhas-financas/i...     N   \n",
       "8   2020-04-22  https://www.infomoney.com.br/mercados/itau-bba...     P   \n",
       "9   2020-03-24  https://www.infomoney.com.br/mercados/itau-bba...     P   \n",
       "10  2020-02-03  https://www.infomoney.com.br/onde-investir/ita...     P   \n",
       "11  2020-04-12  https://www.infomoney.com.br/negocios/itau-uni...     P   \n",
       "12  2020-01-23  https://www.infomoney.com.br/minhas-financas/i...     N   \n",
       "13  2019-05-13  https://www.infomoney.com.br/consumo/itau-lanc...     P   \n",
       "14  2020-04-06  https://www.infomoney.com.br/negocios/itau-e-b...     P   \n",
       "15  2019-05-10  https://www.infomoney.com.br/mercados/como-com...     P   \n",
       "16  2020-04-17  https://www.infomoney.com.br/negocios/diferent...     P   \n",
       "17  2020-05-05  https://www.infomoney.com.br/mercados/preparad...     P   \n",
       "18  2020-02-05  https://www.infomoney.com.br/minhas-financas/i...     P   \n",
       "\n",
       "                                                 Text RNN_Class  \n",
       "0    sao paulo  o itau unibanco      fechou quarto...         N  \n",
       "1    sao paulo  somados  quatro maiores bancos bra...         N  \n",
       "2    sao paulo  o itau unibanco anunciou vai prorr...         N  \n",
       "3    sao paulo  o itau unibanco      informou prim...         P  \n",
       "4    sao paulo  o lucro liquido recorrente itau un...         P  \n",
       "5    sao paulo  mais resultado grande banco bem re...         P  \n",
       "6    sao paulo  a partir segundafeira    bancos br...         P  \n",
       "7     o itau unibanco informa prorrogou mil contra...         N  \n",
       "8    sao paulo  o ibovespa subiu   contar forte al...         P  \n",
       "9    sao paulo  o itau bba cortou projecao ibovesp...         P  \n",
       "10   sao paulo  focado segmento     acoes empresas...         N  \n",
       "11    o itau unibanco vai doar r  bilhao combate n...         P  \n",
       "12   sao paulo  o itau unibanco  maior banco brasi...         P  \n",
       "13   sao paulo  o itau unibanco anunciou nesta seg...         P  \n",
       "14   sao paulo  nessa semana  bradesco itau  dois ...         P  \n",
       "15   maior banco pais  itau          costuma desta...         P  \n",
       "16   sao paulo  uma consequencias atual crise novo...         P  \n",
       "17   sao paulo  bem preparado guerra contra corona...         P  \n",
       "18   sao paulo  apos decisao copom desta quartafei...         P  "
      ]
     },
     "execution_count": 41,
     "metadata": {},
     "output_type": "execute_result"
    }
   ],
   "source": [
    "df_test.head(50)"
   ]
  },
  {
   "cell_type": "code",
   "execution_count": 42,
   "metadata": {},
   "outputs": [
    {
     "data": {
      "text/plain": [
       "0.7131578947368421"
      ]
     },
     "execution_count": 42,
     "metadata": {},
     "output_type": "execute_result"
    }
   ],
   "source": [
    "from sklearn.metrics import f1_score\n",
    "prec1 = f1_score(df_test['Class'], df_test['RNN_Class'], average='weighted')\n",
    "prec1"
   ]
  },
  {
   "cell_type": "code",
   "execution_count": 43,
   "metadata": {},
   "outputs": [
    {
     "name": "stdout",
     "output_type": "stream",
     "text": [
      "accuracy:  0.6842105263157895\n",
      "Precision, Recall and F1-Score:\n",
      "\n",
      "               precision    recall  f1-score   support\n",
      "\n",
      "           N       0.20      0.33      0.25         3\n",
      "           P       0.86      0.75      0.80        16\n",
      "\n",
      "    accuracy                           0.68        19\n",
      "   macro avg       0.53      0.54      0.52        19\n",
      "weighted avg       0.75      0.68      0.71        19\n",
      "\n"
     ]
    }
   ],
   "source": [
    "print('accuracy: ', sum(df_test['Class'] == df_test['RNN_Class']) / len(df_test))\n",
    "print(\"Precision, Recall and F1-Score:\\n\\n\", classification_report(df_test['Class'], df_test['RNN_Class']))"
   ]
  },
  {
   "cell_type": "markdown",
   "metadata": {},
   "source": [
    "## Conclusion\n",
    "\n",
    "I split the dataset into train, test and validation set. So in the test set the F1_score was 0.6 and the validation test was 0.68. It's a high bias case and need to increase the size of networks or train longer, analyzing the f1-score, of the validation test we can notice that the Class N had the f1-score of 0.25, so we need to insert more data with this class, because it isn’t clear to our model. "
   ]
  },
  {
   "cell_type": "code",
   "execution_count": null,
   "metadata": {},
   "outputs": [],
   "source": []
  }
 ],
 "metadata": {
  "kernelspec": {
   "display_name": "Python 3",
   "language": "python",
   "name": "python3"
  },
  "language_info": {
   "codemirror_mode": {
    "name": "ipython",
    "version": 3
   },
   "file_extension": ".py",
   "mimetype": "text/x-python",
   "name": "python",
   "nbconvert_exporter": "python",
   "pygments_lexer": "ipython3",
   "version": "3.7.3"
  }
 },
 "nbformat": 4,
 "nbformat_minor": 4
}
