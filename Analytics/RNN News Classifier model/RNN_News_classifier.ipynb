{
 "cells": [
  {
   "cell_type": "markdown",
   "metadata": {},
   "source": [
    "# Recurrent Neural Network - RNN\n",
    "\n",
    "In order to classify the news in different scenarios, it was necessary to create a deep learning model so that we could automatically interpret, in the ETL stage, what each news item on the infomoney wanted to say.\n",
    "\n",
    "So it was necessary to create a data set that would feed the model, so I put my little knowlege of the financial market into action, after a failed attempt to use IBM Sentiment Analysis that classified everything as neutral (due to the writers' care not to express an opinion), and I classified 54 Itaú news in 3 scenarious and split it into train, test and dev dataset.\n",
    "\n",
    "The most famous model of deep learning nlp classifier is the Recurrent Neural Network, in my internship I had been trying different kind of NN models to classifier using the Glove as Embedding, where the RNN was with the best answers.\n",
    "\n",
    "There are a lot embedding ways to transform word to vectors, so i chose it due my familiarity to tunning this kind of model.\n",
    "\n",
    "\n",
    "The Glove Embedding used in this RNN is found in NILC - Núcleo Interinstitucional de Linguística Computacional\n",
    "http://www.nilc.icmc.usp.br/embeddings"
   ]
  },
  {
   "cell_type": "code",
   "execution_count": 1,
   "metadata": {},
   "outputs": [
    {
     "name": "stderr",
     "output_type": "stream",
     "text": [
      "Using TensorFlow backend.\n",
      "/home/anthony/anaconda3/lib/python3.7/site-packages/sklearn/externals/joblib/__init__.py:15: FutureWarning: sklearn.externals.joblib is deprecated in 0.21 and will be removed in 0.23. Please import this functionality directly from joblib, which can be installed with: pip install joblib. If this warning is raised when loading pickled models, you may need to re-serialize those models with scikit-learn 0.21+.\n",
      "  warnings.warn(msg, category=FutureWarning)\n"
     ]
    }
   ],
   "source": [
    "import os\n",
    "import numpy as np\n",
    "import matplotlib.pyplot as plt\n",
    "%matplotlib inline\n",
    "\n",
    "import nltk\n",
    "import unicodedata\n",
    "import collections\n",
    "import pandas as pd\n",
    "import numpy as np\n",
    "import string\n",
    "import re\n",
    "\n",
    "from numpy import random as np_random\n",
    "from nltk import word_tokenize\n",
    "from nltk.corpus import stopwords\n",
    "from keras.preprocessing.text import Tokenizer\n",
    "from keras.preprocessing.sequence import pad_sequences\n",
    "from keras.utils import to_categorical\n",
    "from keras.layers import Dense, Input, Flatten\n",
    "from keras.layers import Reshape, Dropout, Concatenate\n",
    "from keras.layers import Conv2D, MaxPool2D, Embedding\n",
    "from keras.models import Model, Sequential\n",
    "from keras.layers import Dense, Input, Dropout, LSTM, Activation, Bidirectional\n",
    "from keras.layers.embeddings import Embedding\n",
    "from sklearn import preprocessing\n",
    "from sklearn.externals import joblib  \n",
    "\n",
    "GLOVE_DIR ='glove.6B/'\n",
    "MAX_SEQUENCE_LENGTH = 50 # Maximum number of words in a sentence\n",
    "MAX_NB_WORDS = 20000 # Vocabulary size\n",
    "EMBEDDING_DIM = 50 # Dimensions of Glove word embedding \n",
    "VALIDATION_SPLIT = 0.3   # % test dataset"
   ]
  },
  {
   "cell_type": "markdown",
   "metadata": {},
   "source": [
    "## Pre-processing Functions\n",
    "One of the most important stage is pre-processing the text that will be classify, it's important we apply the same steps to train and test the model, how it will classify portugues news, I applied removing accentuation and the others commun steps such as remove punction, remove numbers, remove stopwords and lower case."
   ]
  },
  {
   "cell_type": "code",
   "execution_count": 2,
   "metadata": {},
   "outputs": [],
   "source": [
    "def strip_accents(sentence):\n",
    "    try:\n",
    "        sentence = unicode(sentence, 'utf-8')\n",
    "    except NameError: # unicode is a default on python 3 \n",
    "        pass\n",
    "\n",
    "    sentence = unicodedata.normalize('NFD', sentence)\\\n",
    "           .encode('ascii', 'ignore')\\\n",
    "           .decode(\"utf-8\")\n",
    "    return str(sentence)\n",
    "\n",
    "def remove_punction(text):\n",
    "    no_punct = \"\".join(c for c in text if c not in string.punctuation)\n",
    "    return no_punct\n",
    "\n",
    "def remove_number(text):\n",
    "    no_number = ''.join([i for i in text if not i.isdigit()])\n",
    "    return no_number\n",
    "\n",
    "def lower_caser(text):\n",
    "    return text.lower()\n",
    "\n",
    "def remove_stopwords(text):\n",
    "        tokens = word_tokenize(text)\n",
    "        tokens = [t for t in tokens if not t in stopwords.words('portuguese')]\n",
    "        return \" \".join(map(str.strip, tokens))\n"
   ]
  },
  {
   "cell_type": "code",
   "execution_count": 3,
   "metadata": {},
   "outputs": [
    {
     "name": "stdout",
     "output_type": "stream",
     "text": [
      "Indexing word vectors.\n",
      "Found 275610 word vectors.\n"
     ]
    }
   ],
   "source": [
    "print('Indexing word vectors.')\n",
    "\n",
    "embeddings_index = {}\n",
    "f = open(os.path.join(GLOVE_DIR, 'BR_glove_s50.txt'), encoding='utf-8')\n",
    "for line in f:\n",
    "    values = line.split()\n",
    "    word = values[0]\n",
    "    coefs = np.asarray(values[1:], dtype='float32')\n",
    "    embeddings_index[word] = coefs\n",
    "f.close()\n",
    "\n",
    "print('Found %s word vectors.' % len(embeddings_index))"
   ]
  },
  {
   "cell_type": "code",
   "execution_count": 4,
   "metadata": {},
   "outputs": [],
   "source": [
    "# Load the itau news\n",
    "df = pd.read_csv('balanced_itau_new.csv', sep=';')\n",
    "df.columns = ['Date','Link','Class','Text']\n",
    "df = df.sample(frac=1)"
   ]
  },
  {
   "cell_type": "code",
   "execution_count": 5,
   "metadata": {},
   "outputs": [
    {
     "data": {
      "text/html": [
       "<div>\n",
       "<style scoped>\n",
       "    .dataframe tbody tr th:only-of-type {\n",
       "        vertical-align: middle;\n",
       "    }\n",
       "\n",
       "    .dataframe tbody tr th {\n",
       "        vertical-align: top;\n",
       "    }\n",
       "\n",
       "    .dataframe thead th {\n",
       "        text-align: right;\n",
       "    }\n",
       "</style>\n",
       "<table border=\"1\" class=\"dataframe\">\n",
       "  <thead>\n",
       "    <tr style=\"text-align: right;\">\n",
       "      <th></th>\n",
       "      <th>Date</th>\n",
       "      <th>Link</th>\n",
       "      <th>Class</th>\n",
       "      <th>Text</th>\n",
       "    </tr>\n",
       "  </thead>\n",
       "  <tbody>\n",
       "    <tr>\n",
       "      <th>20</th>\n",
       "      <td>2019-11-21</td>\n",
       "      <td>https://www.infomoney.com.br/negocios/itau-e-m...</td>\n",
       "      <td>N</td>\n",
       "      <td>['SÃO PAULO – O Itaú Unibanco (', ') foi multa...</td>\n",
       "    </tr>\n",
       "    <tr>\n",
       "      <th>8</th>\n",
       "      <td>2019-07-01</td>\n",
       "      <td>https://www.infomoney.com.br/mercados/acoes-de...</td>\n",
       "      <td>P</td>\n",
       "      <td>['SÃO PAULO – Nesta segunda-feira (1), comemor...</td>\n",
       "    </tr>\n",
       "    <tr>\n",
       "      <th>21</th>\n",
       "      <td>2019-07-30</td>\n",
       "      <td>https://www.infomoney.com.br/negocios/acao-do-...</td>\n",
       "      <td>N</td>\n",
       "      <td>['SÃO PAULO – Mais um resultado aparentemente ...</td>\n",
       "    </tr>\n",
       "    <tr>\n",
       "      <th>12</th>\n",
       "      <td>2020-04-06</td>\n",
       "      <td>https://www.infomoney.com.br/negocios/itau-e-b...</td>\n",
       "      <td>P</td>\n",
       "      <td>['SÃO PAULO – Nessa semana, o Bradesco e o Ita...</td>\n",
       "    </tr>\n",
       "    <tr>\n",
       "      <th>2</th>\n",
       "      <td>2019-11-05</td>\n",
       "      <td>https://www.infomoney.com.br/mercados/acao-do-...</td>\n",
       "      <td>P</td>\n",
       "      <td>['SÃO PAULO – Após abrir a sessão em alta, o '...</td>\n",
       "    </tr>\n",
       "  </tbody>\n",
       "</table>\n",
       "</div>"
      ],
      "text/plain": [
       "          Date                                               Link Class  \\\n",
       "20  2019-11-21  https://www.infomoney.com.br/negocios/itau-e-m...     N   \n",
       "8   2019-07-01  https://www.infomoney.com.br/mercados/acoes-de...     P   \n",
       "21  2019-07-30  https://www.infomoney.com.br/negocios/acao-do-...     N   \n",
       "12  2020-04-06  https://www.infomoney.com.br/negocios/itau-e-b...     P   \n",
       "2   2019-11-05  https://www.infomoney.com.br/mercados/acao-do-...     P   \n",
       "\n",
       "                                                 Text  \n",
       "20  ['SÃO PAULO – O Itaú Unibanco (', ') foi multa...  \n",
       "8   ['SÃO PAULO – Nesta segunda-feira (1), comemor...  \n",
       "21  ['SÃO PAULO – Mais um resultado aparentemente ...  \n",
       "12  ['SÃO PAULO – Nessa semana, o Bradesco e o Ita...  \n",
       "2   ['SÃO PAULO – Após abrir a sessão em alta, o '...  "
      ]
     },
     "execution_count": 5,
     "metadata": {},
     "output_type": "execute_result"
    }
   ],
   "source": [
    "df.head()"
   ]
  },
  {
   "cell_type": "markdown",
   "metadata": {},
   "source": [
    "## Balancing the dataset\n",
    "\n",
    "I balanced the scenarios of the train and test dataset, so I'm using 34 Itaú's news in this stage and 19 in the test dataset, but it will a little far from the ideal because I needed 11 Neutral(NN) news, so I chose to leave it in train dataset."
   ]
  },
  {
   "cell_type": "code",
   "execution_count": 6,
   "metadata": {},
   "outputs": [
    {
     "data": {
      "text/html": [
       "<div>\n",
       "<style scoped>\n",
       "    .dataframe tbody tr th:only-of-type {\n",
       "        vertical-align: middle;\n",
       "    }\n",
       "\n",
       "    .dataframe tbody tr th {\n",
       "        vertical-align: top;\n",
       "    }\n",
       "\n",
       "    .dataframe thead th {\n",
       "        text-align: right;\n",
       "    }\n",
       "</style>\n",
       "<table border=\"1\" class=\"dataframe\">\n",
       "  <thead>\n",
       "    <tr style=\"text-align: right;\">\n",
       "      <th></th>\n",
       "      <th>Class</th>\n",
       "      <th>Freq</th>\n",
       "    </tr>\n",
       "  </thead>\n",
       "  <tbody>\n",
       "    <tr>\n",
       "      <th>0</th>\n",
       "      <td>N</td>\n",
       "      <td>15</td>\n",
       "    </tr>\n",
       "    <tr>\n",
       "      <th>1</th>\n",
       "      <td>P</td>\n",
       "      <td>15</td>\n",
       "    </tr>\n",
       "    <tr>\n",
       "      <th>2</th>\n",
       "      <td>NN</td>\n",
       "      <td>4</td>\n",
       "    </tr>\n",
       "  </tbody>\n",
       "</table>\n",
       "</div>"
      ],
      "text/plain": [
       "  Class  Freq\n",
       "0     N    15\n",
       "1     P    15\n",
       "2    NN     4"
      ]
     },
     "execution_count": 6,
     "metadata": {},
     "output_type": "execute_result"
    }
   ],
   "source": [
    "#### Bar columns of the frequency\n",
    "Freq_intents = df.groupby(['Class']).size().reset_index(name = 'Freq')\n",
    "Freq_intents= Freq_intents.sort_values(['Freq'], ascending=False)\n",
    "Freq_intents = Freq_intents.reset_index()\n",
    "del Freq_intents['index']     \n",
    "Freq_intents.head(10)"
   ]
  },
  {
   "cell_type": "code",
   "execution_count": 7,
   "metadata": {},
   "outputs": [
    {
     "data": {
      "image/png": "[encoded data removed]",
      "text/plain": [
       "<Figure size 432x288 with 1 Axes>"
      ]
     },
     "metadata": {
      "needs_background": "light"
     },
     "output_type": "display_data"
    }
   ],
   "source": [
    "height = Freq_intents['Freq']\n",
    "bars = Freq_intents['Class']\n",
    "y_pos = np.arange(len(bars))\n",
    "plt.bar(y_pos, height, color=['darkblue','orange'])\n",
    "plt.xlabel('Intenções',fontsize=20)\n",
    "plt.rcParams['figure.figsize'] = (25,7)\n",
    "plt.ylabel('Frequência', fontsize=15)\n",
    "plt.xticks(y_pos, bars, rotation=90, fontsize=10)\n",
    "plt.title(\"Imbalanced classes\", fontsize=20)\n",
    "plt.show()"
   ]
  },
  {
   "cell_type": "markdown",
   "metadata": {},
   "source": [
    "## Pre-processing"
   ]
  },
  {
   "cell_type": "markdown",
   "metadata": {},
   "source": [
    "Here it will apply all the pre-processing function that was explained above."
   ]
  },
  {
   "cell_type": "code",
   "execution_count": 8,
   "metadata": {},
   "outputs": [],
   "source": [
    "df['Text'] = df['Text'].apply(remove_number)\n",
    "df['Text'] = df['Text'].apply(remove_stopwords)\n",
    "df['Text'] = df['Text'].apply(lower_caser)\n",
    "df['Text'] = df['Text'].apply(strip_accents)\n",
    "df['Text'] = df['Text'].apply(remove_punction)\n",
    "df = df.reset_index(drop=True)"
   ]
  },
  {
   "cell_type": "code",
   "execution_count": 9,
   "metadata": {},
   "outputs": [
    {
     "data": {
      "text/html": [
       "<div>\n",
       "<style scoped>\n",
       "    .dataframe tbody tr th:only-of-type {\n",
       "        vertical-align: middle;\n",
       "    }\n",
       "\n",
       "    .dataframe tbody tr th {\n",
       "        vertical-align: top;\n",
       "    }\n",
       "\n",
       "    .dataframe thead th {\n",
       "        text-align: right;\n",
       "    }\n",
       "</style>\n",
       "<table border=\"1\" class=\"dataframe\">\n",
       "  <thead>\n",
       "    <tr style=\"text-align: right;\">\n",
       "      <th></th>\n",
       "      <th>Date</th>\n",
       "      <th>Link</th>\n",
       "      <th>Class</th>\n",
       "      <th>Text</th>\n",
       "    </tr>\n",
       "  </thead>\n",
       "  <tbody>\n",
       "    <tr>\n",
       "      <th>0</th>\n",
       "      <td>2019-11-21</td>\n",
       "      <td>https://www.infomoney.com.br/negocios/itau-e-m...</td>\n",
       "      <td>N</td>\n",
       "      <td>sao paulo  o itau unibanco      multado r   b...</td>\n",
       "    </tr>\n",
       "    <tr>\n",
       "      <th>1</th>\n",
       "      <td>2019-07-01</td>\n",
       "      <td>https://www.infomoney.com.br/mercados/acoes-de...</td>\n",
       "      <td>P</td>\n",
       "      <td>sao paulo  nesta segundafeira    comemorase a...</td>\n",
       "    </tr>\n",
       "    <tr>\n",
       "      <th>2</th>\n",
       "      <td>2019-07-30</td>\n",
       "      <td>https://www.infomoney.com.br/negocios/acao-do-...</td>\n",
       "      <td>N</td>\n",
       "      <td>sao paulo  mais resultado aparentemente posit...</td>\n",
       "    </tr>\n",
       "    <tr>\n",
       "      <th>3</th>\n",
       "      <td>2020-04-06</td>\n",
       "      <td>https://www.infomoney.com.br/negocios/itau-e-b...</td>\n",
       "      <td>P</td>\n",
       "      <td>sao paulo  nessa semana  bradesco itau  dois ...</td>\n",
       "    </tr>\n",
       "    <tr>\n",
       "      <th>4</th>\n",
       "      <td>2019-11-05</td>\n",
       "      <td>https://www.infomoney.com.br/mercados/acao-do-...</td>\n",
       "      <td>P</td>\n",
       "      <td>sao paulo  apos abrir sessao alta     sessao ...</td>\n",
       "    </tr>\n",
       "  </tbody>\n",
       "</table>\n",
       "</div>"
      ],
      "text/plain": [
       "         Date                                               Link Class  \\\n",
       "0  2019-11-21  https://www.infomoney.com.br/negocios/itau-e-m...     N   \n",
       "1  2019-07-01  https://www.infomoney.com.br/mercados/acoes-de...     P   \n",
       "2  2019-07-30  https://www.infomoney.com.br/negocios/acao-do-...     N   \n",
       "3  2020-04-06  https://www.infomoney.com.br/negocios/itau-e-b...     P   \n",
       "4  2019-11-05  https://www.infomoney.com.br/mercados/acao-do-...     P   \n",
       "\n",
       "                                                Text  \n",
       "0   sao paulo  o itau unibanco      multado r   b...  \n",
       "1   sao paulo  nesta segundafeira    comemorase a...  \n",
       "2   sao paulo  mais resultado aparentemente posit...  \n",
       "3   sao paulo  nessa semana  bradesco itau  dois ...  \n",
       "4   sao paulo  apos abrir sessao alta     sessao ...  "
      ]
     },
     "execution_count": 9,
     "metadata": {},
     "output_type": "execute_result"
    }
   ],
   "source": [
    "df.head()"
   ]
  },
  {
   "cell_type": "code",
   "execution_count": 10,
   "metadata": {},
   "outputs": [],
   "source": [
    "#### Training dataset\n",
    "texts = df['Text'][:29]\n",
    "labels = df['Class'][:29]\n",
    "\n",
    "#### Test dataset\n",
    "test_texts = df['Text'][29:]\n",
    "test_labels = df['Class'][29:]\n",
    "\n",
    "# Label Encoding: converting text labels into the integers\n",
    "\n",
    "\n",
    "train_le = preprocessing.LabelEncoder()                                # creating a labelencoder\n",
    "train_le.fit(labels)                                                   # Array with the intents (labels, it works like Unique function\n",
    "\n",
    "joblib.dump(train_le, 'label_encoder.pkl')                              # Save the label encoder\n",
    "\n",
    "labels = train_le.transform(labels)                                         \n",
    "test_labels = train_le.transform(test_labels)\n",
    "\n",
    "label_dict = dict(zip(list(train_le.classes_), train_le.transform(list(train_le.classes_))))              ### create a dic \"label0 : 0\n",
    "# print(label_dict)        # show all the labels"
   ]
  },
  {
   "cell_type": "markdown",
   "metadata": {},
   "source": [
    "#### Tokenizing text and creating word index"
   ]
  },
  {
   "cell_type": "code",
   "execution_count": 11,
   "metadata": {},
   "outputs": [
    {
     "name": "stdout",
     "output_type": "stream",
     "text": [
      "Found 3425 unique tokens.\n",
      "Shape of data tensor: (29, 50)\n",
      "Shape of label tensor: (29, 3)\n",
      "Preparing embedding matrix.\n"
     ]
    }
   ],
   "source": [
    "tokenizer = Tokenizer(num_words=MAX_NB_WORDS)\n",
    "tokenizer.fit_on_texts(texts)\n",
    "sequences = tokenizer.texts_to_sequences(texts)\n",
    "\n",
    "word_index = tokenizer.word_index\n",
    "print('Found %s unique tokens.' % len(word_index))\n",
    "\n",
    "data = pad_sequences(sequences, maxlen=MAX_SEQUENCE_LENGTH)\n",
    "\n",
    "labels = to_categorical(np.asarray(labels))             \n",
    "print('Shape of data tensor:', data.shape)\n",
    "print('Shape of label tensor:', labels.shape)\n",
    "\n",
    "# split the data into a training set and a validation set\n",
    "indices = np.arange(data.shape[0])                 \n",
    "np.random.shuffle(indices)                         \n",
    "data = data[indices]                               \n",
    "labels = labels[indices]                           \n",
    "num_validation_samples = int(VALIDATION_SPLIT * data.shape[0])\n",
    "\n",
    "x_train = data[:-num_validation_samples]\n",
    "y_train = labels[:-num_validation_samples]\n",
    "x_val = data[-num_validation_samples:]\n",
    "y_val = labels[-num_validation_samples:]\n",
    "\n",
    "print('Preparing embedding matrix.')"
   ]
  },
  {
   "cell_type": "code",
   "execution_count": 12,
   "metadata": {},
   "outputs": [],
   "source": [
    "i = len(word_index) + 1\n",
    "j = EMBEDDING_DIM\n",
    "num_words = min(MAX_NB_WORDS, len(word_index))\n",
    "embedding_matrix = np.random.randn(i, j)*np.sqrt(2/(49))   ## I will use relu in first hidden layers, so it is recommended to use this multiplier in the random initialize\n",
    "for word, i in word_index.items():\n",
    "    embedding_vector = embeddings_index.get(word)\n",
    "    if embedding_vector is not None:\n",
    "        # words not found in embedding (glove) index will be all-zeros.\n",
    "        embedding_matrix[i] = embedding_vector[0:50]"
   ]
  },
  {
   "cell_type": "markdown",
   "metadata": {},
   "source": [
    "## Creating the Sequential model\n",
    "\n",
    "In this RNN model I create it abusing of the regularizations, to each perceptron of activation function I put a regulation in sequence, so the configuration is:  \n",
    "\n",
    "1 - Activation function Relu;  \n",
    "2 - Regularization L1 to remove the features less important;  \n",
    "3 - Activation function bidirectional Long Short Term Memory(LSTM) with recurrent dropout of 0.1;  \n",
    "4 - Regularization Dropout of 0.3(keep-probability), it's necessary to cut off randomly the perceptron, the goal is in each iteration run a different model;  \n",
    "5 - Activation function LSTM;  \n",
    "6 - Activation function Relu;  \n",
    "7 - Regularization Dropout of 0.3(keep-probability);  \n",
    "8 - And the output layer of multi-class classification needs to be a **softmax**;  \n",
    "\n",
    "I will leave a reference for more details:  \n",
    "\n",
    "Multi-class classification: https://towardsdatascience.com/multi-label-image-classification-with-neural-network-keras-ddc1ab1afede  \n",
    "\n",
    "Regularization Droput: https://medium.com/@amarbudhiraja/https-medium-com-amarbudhiraja-learning-less-to-learn-better-dropout-in-deep-machine-learning-74334da4bfc5  \n",
    "\n",
    "Regularization L1 and L2: https://towardsdatascience.com/l1-and-l2-regularization-methods-ce25e7fc831c  \n",
    "\n",
    "Activation Functions: https://medium.com/the-theory-of-everything/understanding-activation-functions-in-neural-networks-9491262884e0  \n",
    "\n"
   ]
  },
  {
   "cell_type": "code",
   "execution_count": 13,
   "metadata": {},
   "outputs": [
    {
     "name": "stdout",
     "output_type": "stream",
     "text": [
      "Model: \"sequential_1\"\n",
      "_________________________________________________________________\n",
      "Layer (type)                 Output Shape              Param #   \n",
      "=================================================================\n",
      "embedding_1 (Embedding)      (None, None, 50)          171300    \n",
      "_________________________________________________________________\n",
      "dense_1 (Dense)              (None, None, 64)          3264      \n",
      "_________________________________________________________________\n",
      "dense_2 (Dense)              (None, None, 32)          2080      \n",
      "_________________________________________________________________\n",
      "bidirectional_1 (Bidirection (None, None, 256)         164864    \n",
      "_________________________________________________________________\n",
      "dropout_1 (Dropout)          (None, None, 256)         0         \n",
      "_________________________________________________________________\n",
      "lstm_2 (LSTM)                (None, 128)               197120    \n",
      "_________________________________________________________________\n",
      "dense_3 (Dense)              (None, 64)                8256      \n",
      "_________________________________________________________________\n",
      "dropout_2 (Dropout)          (None, 64)                0         \n",
      "_________________________________________________________________\n",
      "dense_4 (Dense)              (None, 3)                 195       \n",
      "=================================================================\n",
      "Total params: 547,079\n",
      "Trainable params: 547,079\n",
      "Non-trainable params: 0\n",
      "_________________________________________________________________\n"
     ]
    }
   ],
   "source": [
    "from keras.layers import Dense\n",
    "from keras.regularizers import l2\n",
    "from keras.regularizers import l1\n",
    "\n",
    "embedding_dim=len(embeddings_index['o'])\n",
    "\n",
    "model = Sequential()\n",
    "model.add(Embedding(num_words+1, embedding_dim, trainable=True, weights=[embedding_matrix]))\n",
    "model.add(Dense(64, activation='relu'))\n",
    "model.add(Dense(32, kernel_regularizer=l1(0.01), bias_regularizer=l1(0.01)))\n",
    "model.add(Bidirectional(LSTM(128, return_sequences=True, recurrent_dropout=0.1, dropout=0.1), 'concat'))\n",
    "model.add(Dropout(0.3))\n",
    "model.add(LSTM(128, return_sequences=False, recurrent_dropout=0.1, dropout=0.1))\n",
    "model.add(Dense(64, activation='relu'))\n",
    "model.add(Dropout(0.3))\n",
    "model.add(Dense(labels.shape[1], activation='softmax'))\n",
    "model.summary()"
   ]
  },
  {
   "cell_type": "markdown",
   "metadata": {},
   "source": [
    "## Optimization - Gradient Descent\n",
    "In the cell below will be defined the optmization method to reduce the cost function, It measure how well the algorithm is going, so despite of it is one line, it's very important and a **priority**. \n",
    "\n",
    "The goal is minimize the cost function, reducing the model's error, trying differents Weights and Bias parameters, so it will find the Learning rate that best converges to the minimum local (or minimum global in the best case).\n",
    "\n",
    "There are 3 most famaous kinds of Gradient Descent: Momentum, RMSprop and ADAM\n",
    "\n",
    "I prefer chose the ADAM (Adaptive Moment Optimization) that combines the RMSprop+Momentum, where it was the best to my model, but it can change in different models/projects. In below I will leave a link with the 3 kinds GD comparation, where the best was the Momentum.\n",
    "\n",
    "https://blog.paperspace.com/intro-to-optimization-momentum-rmsprop-adam/#:~:text=So%20far%2C%20we've%20seen,Here%20are%20the%20update%20equations.\n",
    "\n"
   ]
  },
  {
   "cell_type": "code",
   "execution_count": 14,
   "metadata": {},
   "outputs": [],
   "source": [
    "model.compile(loss='categorical_crossentropy', optimizer='adam', metrics=['acc'])"
   ]
  },
  {
   "cell_type": "markdown",
   "metadata": {},
   "source": [
    "### Training the Model"
   ]
  },
  {
   "cell_type": "code",
   "execution_count": 15,
   "metadata": {
    "collapsed": true,
    "jupyter": {
     "outputs_hidden": true
    }
   },
   "outputs": [
    {
     "name": "stderr",
     "output_type": "stream",
     "text": [
      "/home/anthony/anaconda3/lib/python3.7/site-packages/tensorflow/python/framework/indexed_slices.py:434: UserWarning: Converting sparse IndexedSlices to a dense Tensor of unknown shape. This may consume a large amount of memory.\n",
      "  \"Converting sparse IndexedSlices to a dense Tensor of unknown shape. \"\n"
     ]
    },
    {
     "name": "stdout",
     "output_type": "stream",
     "text": [
      "Train on 21 samples, validate on 8 samples\n",
      "Epoch 1/100\n",
      "21/21 [==============================] - 2s 102ms/step - loss: 3.5867 - acc: 0.3333 - val_loss: 3.5074 - val_acc: 0.3750\n",
      "Epoch 2/100\n",
      "21/21 [==============================] - 0s 5ms/step - loss: 3.5123 - acc: 0.5714 - val_loss: 3.4311 - val_acc: 0.3750\n",
      "Epoch 3/100\n",
      "21/21 [==============================] - 0s 5ms/step - loss: 3.4762 - acc: 0.3810 - val_loss: 3.3605 - val_acc: 0.3750\n",
      "Epoch 4/100\n",
      "21/21 [==============================] - 0s 6ms/step - loss: 3.4782 - acc: 0.4762 - val_loss: 3.3122 - val_acc: 0.3750\n",
      "Epoch 5/100\n",
      "21/21 [==============================] - 0s 6ms/step - loss: 3.4574 - acc: 0.3810 - val_loss: 3.2799 - val_acc: 0.2500\n",
      "Epoch 6/100\n",
      "21/21 [==============================] - 0s 6ms/step - loss: 3.3904 - acc: 0.3810 - val_loss: 3.2560 - val_acc: 0.1250\n",
      "Epoch 7/100\n",
      "21/21 [==============================] - 0s 6ms/step - loss: 3.3952 - acc: 0.3810 - val_loss: 3.2529 - val_acc: 0.1250\n",
      "Epoch 8/100\n",
      "21/21 [==============================] - 0s 6ms/step - loss: 3.3338 - acc: 0.5714 - val_loss: 3.2506 - val_acc: 0.1250\n",
      "Epoch 9/100\n",
      "21/21 [==============================] - 0s 6ms/step - loss: 3.2749 - acc: 0.5714 - val_loss: 3.2495 - val_acc: 0.1250\n",
      "Epoch 10/100\n",
      "21/21 [==============================] - 0s 6ms/step - loss: 3.2628 - acc: 0.5714 - val_loss: 3.2501 - val_acc: 0.1250\n",
      "Epoch 11/100\n",
      "21/21 [==============================] - 0s 6ms/step - loss: 3.2277 - acc: 0.5714 - val_loss: 3.2553 - val_acc: 0.1250\n",
      "Epoch 12/100\n",
      "21/21 [==============================] - 0s 6ms/step - loss: 3.1731 - acc: 0.6190 - val_loss: 3.2730 - val_acc: 0.1250\n",
      "Epoch 13/100\n",
      "21/21 [==============================] - 0s 6ms/step - loss: 3.1360 - acc: 0.5714 - val_loss: 3.2987 - val_acc: 0.1250\n",
      "Epoch 14/100\n",
      "21/21 [==============================] - 0s 6ms/step - loss: 3.0813 - acc: 0.7143 - val_loss: 3.3339 - val_acc: 0.1250\n",
      "Epoch 15/100\n",
      "21/21 [==============================] - 0s 6ms/step - loss: 2.9940 - acc: 0.6667 - val_loss: 3.3977 - val_acc: 0.1250\n",
      "Epoch 16/100\n",
      "21/21 [==============================] - 0s 6ms/step - loss: 2.8505 - acc: 0.7619 - val_loss: 3.3632 - val_acc: 0.2500\n",
      "Epoch 17/100\n",
      "21/21 [==============================] - 0s 6ms/step - loss: 2.8219 - acc: 0.8095 - val_loss: 3.5482 - val_acc: 0.2500\n",
      "Epoch 18/100\n",
      "21/21 [==============================] - 0s 6ms/step - loss: 2.8467 - acc: 0.6667 - val_loss: 3.4572 - val_acc: 0.3750\n",
      "Epoch 19/100\n",
      "21/21 [==============================] - 0s 5ms/step - loss: 2.7014 - acc: 0.8095 - val_loss: 3.4223 - val_acc: 0.5000\n",
      "Epoch 20/100\n",
      "21/21 [==============================] - 0s 6ms/step - loss: 2.5964 - acc: 0.9048 - val_loss: 3.5579 - val_acc: 0.5000\n",
      "Epoch 21/100\n",
      "21/21 [==============================] - 0s 5ms/step - loss: 2.6029 - acc: 0.7619 - val_loss: 4.2632 - val_acc: 0.1250\n",
      "Epoch 22/100\n",
      "21/21 [==============================] - 0s 6ms/step - loss: 2.5154 - acc: 0.8571 - val_loss: 3.8981 - val_acc: 0.2500\n",
      "Epoch 23/100\n",
      "21/21 [==============================] - 0s 6ms/step - loss: 2.4828 - acc: 0.9048 - val_loss: 3.3944 - val_acc: 0.5000\n",
      "Epoch 24/100\n",
      "21/21 [==============================] - 0s 7ms/step - loss: 2.5204 - acc: 0.8571 - val_loss: 3.4315 - val_acc: 0.5000\n",
      "Epoch 25/100\n",
      "21/21 [==============================] - 0s 6ms/step - loss: 2.4503 - acc: 0.8571 - val_loss: 3.6933 - val_acc: 0.5000\n",
      "Epoch 26/100\n",
      "21/21 [==============================] - 0s 7ms/step - loss: 2.2775 - acc: 0.9524 - val_loss: 4.5148 - val_acc: 0.1250\n",
      "Epoch 27/100\n",
      "21/21 [==============================] - 0s 6ms/step - loss: 2.3211 - acc: 0.9524 - val_loss: 4.7308 - val_acc: 0.1250\n",
      "Epoch 28/100\n",
      "21/21 [==============================] - 0s 6ms/step - loss: 2.3713 - acc: 0.8571 - val_loss: 4.5661 - val_acc: 0.1250\n",
      "Epoch 29/100\n",
      "21/21 [==============================] - 0s 6ms/step - loss: 2.2967 - acc: 0.8571 - val_loss: 3.8643 - val_acc: 0.2500\n",
      "Epoch 30/100\n",
      "21/21 [==============================] - 0s 5ms/step - loss: 2.2226 - acc: 0.9524 - val_loss: 3.6442 - val_acc: 0.5000\n",
      "Epoch 31/100\n",
      "21/21 [==============================] - 0s 6ms/step - loss: 2.2827 - acc: 0.9048 - val_loss: 3.6537 - val_acc: 0.6250\n",
      "Epoch 32/100\n",
      "21/21 [==============================] - 0s 6ms/step - loss: 2.2063 - acc: 0.9524 - val_loss: 3.6652 - val_acc: 0.6250\n",
      "Epoch 33/100\n",
      "21/21 [==============================] - 0s 6ms/step - loss: 2.2569 - acc: 0.9524 - val_loss: 3.7428 - val_acc: 0.3750\n",
      "Epoch 34/100\n",
      "21/21 [==============================] - 0s 6ms/step - loss: 2.2040 - acc: 0.9048 - val_loss: 4.2347 - val_acc: 0.2500\n",
      "Epoch 35/100\n",
      "21/21 [==============================] - 0s 6ms/step - loss: 2.1300 - acc: 0.9524 - val_loss: 4.8213 - val_acc: 0.2500\n",
      "Epoch 36/100\n",
      "21/21 [==============================] - 0s 7ms/step - loss: 2.1258 - acc: 0.9524 - val_loss: 4.4874 - val_acc: 0.2500\n",
      "Epoch 37/100\n",
      "21/21 [==============================] - 0s 6ms/step - loss: 2.0079 - acc: 1.0000 - val_loss: 4.0582 - val_acc: 0.5000\n",
      "Epoch 38/100\n",
      "21/21 [==============================] - 0s 6ms/step - loss: 2.0369 - acc: 1.0000 - val_loss: 3.6850 - val_acc: 0.3750\n",
      "Epoch 39/100\n",
      "21/21 [==============================] - 0s 5ms/step - loss: 2.1181 - acc: 0.9048 - val_loss: 3.7119 - val_acc: 0.6250\n",
      "Epoch 40/100\n",
      "21/21 [==============================] - 0s 6ms/step - loss: 2.1095 - acc: 0.9048 - val_loss: 3.7719 - val_acc: 0.6250\n",
      "Epoch 41/100\n",
      "21/21 [==============================] - 0s 6ms/step - loss: 2.2802 - acc: 0.8095 - val_loss: 3.7302 - val_acc: 0.6250\n",
      "Epoch 42/100\n",
      "21/21 [==============================] - 0s 6ms/step - loss: 2.0567 - acc: 0.9524 - val_loss: 3.9268 - val_acc: 0.6250\n",
      "Epoch 43/100\n",
      "21/21 [==============================] - 0s 6ms/step - loss: 1.9772 - acc: 0.9524 - val_loss: 4.8735 - val_acc: 0.1250\n",
      "Epoch 44/100\n",
      "21/21 [==============================] - 0s 6ms/step - loss: 1.9516 - acc: 1.0000 - val_loss: 5.7008 - val_acc: 0.1250\n",
      "Epoch 45/100\n",
      "21/21 [==============================] - 0s 6ms/step - loss: 2.0321 - acc: 0.9524 - val_loss: 5.9842 - val_acc: 0.1250\n",
      "Epoch 46/100\n",
      "21/21 [==============================] - 0s 6ms/step - loss: 2.2289 - acc: 0.9048 - val_loss: 5.5862 - val_acc: 0.1250\n",
      "Epoch 47/100\n",
      "21/21 [==============================] - 0s 7ms/step - loss: 1.9791 - acc: 0.9524 - val_loss: 4.9354 - val_acc: 0.1250\n",
      "Epoch 48/100\n",
      "21/21 [==============================] - 0s 6ms/step - loss: 1.9199 - acc: 1.0000 - val_loss: 4.3290 - val_acc: 0.1250\n",
      "Epoch 49/100\n",
      "21/21 [==============================] - 0s 6ms/step - loss: 1.9120 - acc: 1.0000 - val_loss: 4.0272 - val_acc: 0.5000\n",
      "Epoch 50/100\n",
      "21/21 [==============================] - 0s 6ms/step - loss: 1.8836 - acc: 1.0000 - val_loss: 3.8958 - val_acc: 0.5000\n",
      "Epoch 51/100\n",
      "21/21 [==============================] - 0s 6ms/step - loss: 1.9830 - acc: 0.9524 - val_loss: 3.8304 - val_acc: 0.5000\n",
      "Epoch 52/100\n",
      "21/21 [==============================] - 0s 6ms/step - loss: 1.9806 - acc: 0.9524 - val_loss: 3.7833 - val_acc: 0.5000\n",
      "Epoch 53/100\n",
      "21/21 [==============================] - 0s 7ms/step - loss: 1.9478 - acc: 0.9524 - val_loss: 3.7594 - val_acc: 0.5000\n",
      "Epoch 54/100\n",
      "21/21 [==============================] - 0s 7ms/step - loss: 1.9225 - acc: 0.9524 - val_loss: 3.7908 - val_acc: 0.5000\n",
      "Epoch 55/100\n",
      "21/21 [==============================] - 0s 7ms/step - loss: 1.8761 - acc: 0.9524 - val_loss: 3.8852 - val_acc: 0.5000\n",
      "Epoch 56/100\n",
      "21/21 [==============================] - 0s 7ms/step - loss: 1.8333 - acc: 1.0000 - val_loss: 4.0144 - val_acc: 0.3750\n",
      "Epoch 57/100\n",
      "21/21 [==============================] - 0s 7ms/step - loss: 1.8988 - acc: 0.9524 - val_loss: 4.1218 - val_acc: 0.3750\n",
      "Epoch 58/100\n",
      "21/21 [==============================] - 0s 7ms/step - loss: 1.8772 - acc: 0.9524 - val_loss: 4.1912 - val_acc: 0.3750\n",
      "Epoch 59/100\n",
      "21/21 [==============================] - 0s 7ms/step - loss: 1.7960 - acc: 1.0000 - val_loss: 4.2502 - val_acc: 0.3750\n",
      "Epoch 60/100\n",
      "21/21 [==============================] - 0s 7ms/step - loss: 1.9001 - acc: 0.9048 - val_loss: 4.3157 - val_acc: 0.3750\n",
      "Epoch 61/100\n",
      "21/21 [==============================] - 0s 7ms/step - loss: 1.7859 - acc: 1.0000 - val_loss: 4.3237 - val_acc: 0.3750\n",
      "Epoch 62/100\n",
      "21/21 [==============================] - 0s 7ms/step - loss: 1.8206 - acc: 0.9524 - val_loss: 4.1941 - val_acc: 0.3750\n",
      "Epoch 63/100\n",
      "21/21 [==============================] - 0s 7ms/step - loss: 1.7806 - acc: 1.0000 - val_loss: 4.0620 - val_acc: 0.6250\n",
      "Epoch 64/100\n",
      "21/21 [==============================] - 0s 7ms/step - loss: 1.7772 - acc: 0.9524 - val_loss: 4.1561 - val_acc: 0.5000\n",
      "Epoch 65/100\n",
      "21/21 [==============================] - 0s 7ms/step - loss: 1.7375 - acc: 1.0000 - val_loss: 4.2531 - val_acc: 0.5000\n",
      "Epoch 66/100\n",
      "21/21 [==============================] - 0s 7ms/step - loss: 1.8114 - acc: 0.9524 - val_loss: 4.5557 - val_acc: 0.3750\n",
      "Epoch 67/100\n",
      "21/21 [==============================] - 0s 7ms/step - loss: 1.7256 - acc: 1.0000 - val_loss: 5.2709 - val_acc: 0.2500\n",
      "Epoch 68/100\n",
      "21/21 [==============================] - 0s 8ms/step - loss: 1.7160 - acc: 1.0000 - val_loss: 5.7941 - val_acc: 0.1250\n",
      "Epoch 69/100\n",
      "21/21 [==============================] - 0s 8ms/step - loss: 1.7479 - acc: 0.9524 - val_loss: 5.6010 - val_acc: 0.2500\n",
      "Epoch 70/100\n",
      "21/21 [==============================] - 0s 8ms/step - loss: 1.8856 - acc: 0.9524 - val_loss: 4.9273 - val_acc: 0.2500\n",
      "Epoch 71/100\n",
      "21/21 [==============================] - 0s 7ms/step - loss: 1.6914 - acc: 1.0000 - val_loss: 4.3765 - val_acc: 0.5000\n",
      "Epoch 72/100\n",
      "21/21 [==============================] - 0s 7ms/step - loss: 1.6739 - acc: 1.0000 - val_loss: 4.1617 - val_acc: 0.5000\n",
      "Epoch 73/100\n",
      "21/21 [==============================] - 0s 7ms/step - loss: 1.6763 - acc: 1.0000 - val_loss: 4.0152 - val_acc: 0.5000\n",
      "Epoch 74/100\n",
      "21/21 [==============================] - 0s 7ms/step - loss: 1.6605 - acc: 1.0000 - val_loss: 4.0252 - val_acc: 0.5000\n",
      "Epoch 75/100\n",
      "21/21 [==============================] - 0s 7ms/step - loss: 1.8599 - acc: 0.9524 - val_loss: 3.9313 - val_acc: 0.5000\n",
      "Epoch 76/100\n",
      "21/21 [==============================] - 0s 7ms/step - loss: 1.6541 - acc: 1.0000 - val_loss: 3.8711 - val_acc: 0.6250\n",
      "Epoch 77/100\n",
      "21/21 [==============================] - 0s 7ms/step - loss: 1.6394 - acc: 1.0000 - val_loss: 3.8820 - val_acc: 0.6250\n",
      "Epoch 78/100\n",
      "21/21 [==============================] - 0s 7ms/step - loss: 1.6655 - acc: 0.9524 - val_loss: 4.0044 - val_acc: 0.6250\n",
      "Epoch 79/100\n",
      "21/21 [==============================] - 0s 7ms/step - loss: 1.6216 - acc: 1.0000 - val_loss: 4.3179 - val_acc: 0.5000\n",
      "Epoch 80/100\n",
      "21/21 [==============================] - 0s 7ms/step - loss: 1.6125 - acc: 1.0000 - val_loss: 4.7764 - val_acc: 0.3750\n",
      "Epoch 81/100\n",
      "21/21 [==============================] - 0s 7ms/step - loss: 1.6136 - acc: 1.0000 - val_loss: 5.1005 - val_acc: 0.3750\n",
      "Epoch 82/100\n",
      "21/21 [==============================] - 0s 7ms/step - loss: 1.6010 - acc: 1.0000 - val_loss: 5.3608 - val_acc: 0.2500\n",
      "Epoch 83/100\n",
      "21/21 [==============================] - 0s 7ms/step - loss: 1.6187 - acc: 1.0000 - val_loss: 5.2970 - val_acc: 0.2500\n",
      "Epoch 84/100\n",
      "21/21 [==============================] - 0s 7ms/step - loss: 1.7765 - acc: 0.9524 - val_loss: 4.8262 - val_acc: 0.3750\n",
      "Epoch 85/100\n",
      "21/21 [==============================] - 0s 7ms/step - loss: 1.5890 - acc: 1.0000 - val_loss: 4.0983 - val_acc: 0.6250\n",
      "Epoch 86/100\n",
      "21/21 [==============================] - 0s 7ms/step - loss: 1.5705 - acc: 1.0000 - val_loss: 3.8211 - val_acc: 0.6250\n",
      "Epoch 87/100\n",
      "21/21 [==============================] - 0s 7ms/step - loss: 1.5618 - acc: 1.0000 - val_loss: 3.6824 - val_acc: 0.6250\n",
      "Epoch 88/100\n",
      "21/21 [==============================] - 0s 7ms/step - loss: 1.5612 - acc: 1.0000 - val_loss: 3.8027 - val_acc: 0.5000\n",
      "Epoch 89/100\n",
      "21/21 [==============================] - 0s 7ms/step - loss: 1.6257 - acc: 0.9524 - val_loss: 4.6344 - val_acc: 0.3750\n",
      "Epoch 90/100\n",
      "21/21 [==============================] - 0s 7ms/step - loss: 1.5531 - acc: 1.0000 - val_loss: 5.6496 - val_acc: 0.3750\n",
      "Epoch 91/100\n",
      "21/21 [==============================] - 0s 7ms/step - loss: 1.6310 - acc: 0.9524 - val_loss: 5.1386 - val_acc: 0.3750\n",
      "Epoch 92/100\n",
      "21/21 [==============================] - 0s 7ms/step - loss: 1.5506 - acc: 1.0000 - val_loss: 4.5313 - val_acc: 0.5000\n",
      "Epoch 93/100\n",
      "21/21 [==============================] - 0s 7ms/step - loss: 1.5279 - acc: 1.0000 - val_loss: 4.3884 - val_acc: 0.3750\n",
      "Epoch 94/100\n",
      "21/21 [==============================] - 0s 7ms/step - loss: 1.5191 - acc: 1.0000 - val_loss: 4.6636 - val_acc: 0.3750\n",
      "Epoch 95/100\n",
      "21/21 [==============================] - 0s 7ms/step - loss: 1.5143 - acc: 1.0000 - val_loss: 5.1388 - val_acc: 0.2500\n",
      "Epoch 96/100\n",
      "21/21 [==============================] - 0s 7ms/step - loss: 1.5054 - acc: 1.0000 - val_loss: 5.5340 - val_acc: 0.2500\n",
      "Epoch 97/100\n",
      "21/21 [==============================] - 0s 7ms/step - loss: 1.5211 - acc: 1.0000 - val_loss: 5.7506 - val_acc: 0.2500\n",
      "Epoch 98/100\n",
      "21/21 [==============================] - 0s 7ms/step - loss: 1.4991 - acc: 1.0000 - val_loss: 5.9030 - val_acc: 0.2500\n",
      "Epoch 99/100\n",
      "21/21 [==============================] - 0s 7ms/step - loss: 1.5098 - acc: 1.0000 - val_loss: 5.9370 - val_acc: 0.2500\n",
      "Epoch 100/100\n",
      "21/21 [==============================] - 0s 7ms/step - loss: 1.5117 - acc: 1.0000 - val_loss: 5.9022 - val_acc: 0.2500\n"
     ]
    }
   ],
   "source": [
    "# If you want to train a new model, uncomment the code below and run this cell\n",
    "\n",
    "history = model.fit(x_train, y_train,\n",
    "          batch_size=64,\n",
    "          epochs=100,\n",
    "          validation_data=(x_val, y_val))\n",
    "model.save('RNNModel.tflearn')"
   ]
  },
  {
   "cell_type": "code",
   "execution_count": 16,
   "metadata": {},
   "outputs": [
    {
     "data": {
      "image/png": "[encoded data removed]",
      "text/plain": [
       "<Figure size 1800x504 with 1 Axes>"
      ]
     },
     "metadata": {
      "needs_background": "light"
     },
     "output_type": "display_data"
    },
    {
     "data": {
      "image/png": "[encoded data removed]",
      "text/plain": [
       "<Figure size 1800x504 with 1 Axes>"
      ]
     },
     "metadata": {
      "needs_background": "light"
     },
     "output_type": "display_data"
    }
   ],
   "source": [
    "plt.plot(history.history['acc'])\n",
    "plt.plot(history.history['val_acc'])\n",
    "plt.title('model accuracy')\n",
    "plt.ylabel('accuracy')\n",
    "plt.xlabel('epoch')\n",
    "plt.legend(['train', 'test'], loc='lower right')\n",
    "plt.show()\n",
    "# summarize history for loss\n",
    "plt.plot(history.history['loss'])\n",
    "plt.plot(history.history['val_loss'])\n",
    "plt.title('model loss')\n",
    "plt.ylabel('loss')\n",
    "plt.xlabel('epoch')\n",
    "plt.legend(['train', 'test'], loc='upper right')\n",
    "plt.show()"
   ]
  },
  {
   "cell_type": "markdown",
   "metadata": {},
   "source": [
    "Despite the explosion of loss through the amount of epochs, with this optimization was that obtained the best F1-score in the test and dev set.\n",
    "I had been try the SGD, RMSprop, Adadelta and Nadam and my F1-score dropped to 0.2 and get a vicious model to classify everything as a positive scenarios.\n",
    "\n",
    "The keras documentation for the available optimizers: https://keras.io/api/optimizers/"
   ]
  },
  {
   "cell_type": "code",
   "execution_count": 17,
   "metadata": {},
   "outputs": [],
   "source": [
    "## Loading the already trained model - if you have a model .tflearn format\n",
    "from keras.models import load_model\n",
    "model = load_model('RNNModel.tflearn')"
   ]
  },
  {
   "cell_type": "markdown",
   "metadata": {},
   "source": [
    "#### Test dataset evaluation"
   ]
  },
  {
   "cell_type": "code",
   "execution_count": 18,
   "metadata": {},
   "outputs": [],
   "source": [
    "test_sequences = tokenizer.texts_to_sequences(test_texts)\n",
    "test_input = pad_sequences(test_sequences, maxlen=MAX_SEQUENCE_LENGTH)\n",
    "\n",
    "# Get predictions\n",
    "test_predictions_probas = model.predict(test_input)\n",
    "test_predictions = test_predictions_probas.argmax(axis=-1)    #### get the prob and put the classes"
   ]
  },
  {
   "cell_type": "code",
   "execution_count": 19,
   "metadata": {},
   "outputs": [
    {
     "name": "stdout",
     "output_type": "stream",
     "text": [
      "accuracy:  0.6\n",
      "Precision, Recall and F1-Score:\n",
      "\n",
      "               precision    recall  f1-score   support\n",
      "\n",
      "           N       0.50      0.50      0.50         2\n",
      "           P       0.67      0.67      0.67         3\n",
      "\n",
      "    accuracy                           0.60         5\n",
      "   macro avg       0.58      0.58      0.58         5\n",
      "weighted avg       0.60      0.60      0.60         5\n",
      "\n"
     ]
    }
   ],
   "source": [
    "from sklearn.metrics import classification_report\n",
    "\n",
    "test_intent_predictions = train_le.inverse_transform(test_predictions)\n",
    "test_intent_original = train_le.inverse_transform(test_labels)\n",
    "\n",
    "# IT sum the number of test_intent_predictions(classe, AddToPlaylist...) equal test_intent_original and divide by total tests\n",
    "print('accuracy: ', sum(test_intent_predictions == test_intent_original) / len(test_labels))\n",
    "print(\"Precision, Recall and F1-Score:\\n\\n\", classification_report(test_intent_original, test_intent_predictions))"
   ]
  },
  {
   "cell_type": "code",
   "execution_count": 20,
   "metadata": {},
   "outputs": [],
   "source": [
    "# Função\n",
    "def RNN(Frase):\n",
    "\n",
    "    test_texts = [Frase]\n",
    "    test_sequences = tokenizer.texts_to_sequences(test_texts)\n",
    "    test_input = pad_sequences(test_sequences, maxlen=MAX_SEQUENCE_LENGTH)\n",
    "    test_predictions_probas = model.predict(test_input)\n",
    "    test_predictions = test_predictions_probas.argmax(axis=-1)\n",
    "    test_intent_predictions = train_le.inverse_transform(test_predictions)\n",
    "    test_intent_original = train_le.inverse_transform(test_labels)\n",
    "    df_probas = pd.DataFrame(test_predictions_probas)\n",
    "    df_intent = pd.DataFrame(test_intent_predictions)\n",
    "    frames = [df_probas, df_intent]\n",
    "    result = pd.concat(frames)\n",
    "    result = pd.concat([df_probas, df_intent], axis=1)\n",
    "    x = result.transpose()[0:104]     ### get the intent list\n",
    "    x.columns = ['probability']\n",
    "    x = pd.to_numeric(x['probability'][:3])\n",
    "    x = pd.DataFrame(x)\n",
    "    labels = pd.DataFrame.from_dict(label_dict,orient='index')\n",
    "    labels = labels.reset_index()\n",
    "    labels.columns = ['Labels','number']\n",
    "    result_table= labels.join(x)\n",
    "    #np.sort(result_table['probability'].values)\n",
    "    result_table = result_table.sort_values(by=['probability'], ascending = False)\n",
    "    result_table.head(5)\n",
    "    return result_table.head(5)"
   ]
  },
  {
   "cell_type": "markdown",
   "metadata": {},
   "source": [
    "## TESTING"
   ]
  },
  {
   "cell_type": "code",
   "execution_count": 21,
   "metadata": {},
   "outputs": [],
   "source": [
    "# Load the TEST itau news\n",
    "df_test = pd.read_csv('test_itau_new.csv', sep=';')\n",
    "df_test.columns = ['Date','Link','Class','Text']\n",
    "df_test = df_test.sample(frac=1)\n"
   ]
  },
  {
   "cell_type": "code",
   "execution_count": 22,
   "metadata": {},
   "outputs": [
    {
     "data": {
      "text/plain": [
       "(19, 4)"
      ]
     },
     "execution_count": 22,
     "metadata": {},
     "output_type": "execute_result"
    }
   ],
   "source": [
    "df_test.shape"
   ]
  },
  {
   "cell_type": "code",
   "execution_count": 23,
   "metadata": {},
   "outputs": [],
   "source": [
    "df_test['Text'] = df_test['Text'].apply(remove_number)\n",
    "df_test['Text'] = df_test['Text'].apply(remove_stopwords)\n",
    "df_test['Text'] = df_test['Text'].apply(lower_caser)\n",
    "df_test['Text'] = df_test['Text'].apply(strip_accents)\n",
    "df_test['Text'] = df_test['Text'].apply(remove_punction)\n",
    "df_test = df_test.reset_index(drop=True)"
   ]
  },
  {
   "cell_type": "code",
   "execution_count": 24,
   "metadata": {},
   "outputs": [],
   "source": [
    "df_test = pd.DataFrame(df_test, columns = ['Date','Link','Class','Text','RNN_Class'])"
   ]
  },
  {
   "cell_type": "code",
   "execution_count": 25,
   "metadata": {
    "collapsed": true,
    "jupyter": {
     "outputs_hidden": true
    }
   },
   "outputs": [
    {
     "name": "stderr",
     "output_type": "stream",
     "text": [
      "/home/anthony/anaconda3/lib/python3.7/site-packages/ipykernel_launcher.py:4: SettingWithCopyWarning: \n",
      "A value is trying to be set on a copy of a slice from a DataFrame\n",
      "\n",
      "See the caveats in the documentation: http://pandas.pydata.org/pandas-docs/stable/indexing.html#indexing-view-versus-copy\n",
      "  after removing the cwd from sys.path.\n",
      "/home/anthony/anaconda3/lib/python3.7/site-packages/pandas/core/indexing.py:190: SettingWithCopyWarning: \n",
      "A value is trying to be set on a copy of a slice from a DataFrame\n",
      "\n",
      "See the caveats in the documentation: http://pandas.pydata.org/pandas-docs/stable/indexing.html#indexing-view-versus-copy\n",
      "  self._setitem_with_indexer(indexer, value)\n"
     ]
    }
   ],
   "source": [
    "for i,x in enumerate(df_test.iterrows()):\n",
    "    x = RNN(df_test['Text'][i]).reset_index(drop = True)\n",
    "    pred = x['Labels'][0]\n",
    "    df_test['RNN_Class'][i] = str(pred)"
   ]
  },
  {
   "cell_type": "code",
   "execution_count": 26,
   "metadata": {},
   "outputs": [
    {
     "data": {
      "text/html": [
       "<div>\n",
       "<style scoped>\n",
       "    .dataframe tbody tr th:only-of-type {\n",
       "        vertical-align: middle;\n",
       "    }\n",
       "\n",
       "    .dataframe tbody tr th {\n",
       "        vertical-align: top;\n",
       "    }\n",
       "\n",
       "    .dataframe thead th {\n",
       "        text-align: right;\n",
       "    }\n",
       "</style>\n",
       "<table border=\"1\" class=\"dataframe\">\n",
       "  <thead>\n",
       "    <tr style=\"text-align: right;\">\n",
       "      <th></th>\n",
       "      <th>Date</th>\n",
       "      <th>Link</th>\n",
       "      <th>Class</th>\n",
       "      <th>Text</th>\n",
       "      <th>RNN_Class</th>\n",
       "    </tr>\n",
       "  </thead>\n",
       "  <tbody>\n",
       "    <tr>\n",
       "      <th>0</th>\n",
       "      <td>2020-01-03</td>\n",
       "      <td>https://www.infomoney.com.br/minhas-financas/c...</td>\n",
       "      <td>P</td>\n",
       "      <td>sao paulo  a partir segundafeira    bancos br...</td>\n",
       "      <td>P</td>\n",
       "    </tr>\n",
       "    <tr>\n",
       "      <th>1</th>\n",
       "      <td>2019-05-10</td>\n",
       "      <td>https://www.infomoney.com.br/mercados/como-com...</td>\n",
       "      <td>P</td>\n",
       "      <td>maior banco pais  itau          costuma desta...</td>\n",
       "      <td>P</td>\n",
       "    </tr>\n",
       "    <tr>\n",
       "      <th>2</th>\n",
       "      <td>2019-08-14</td>\n",
       "      <td>https://www.infomoney.com.br/consumo/itau-lanc...</td>\n",
       "      <td>P</td>\n",
       "      <td>sao paulo  o itau unibanco      informou prim...</td>\n",
       "      <td>P</td>\n",
       "    </tr>\n",
       "    <tr>\n",
       "      <th>3</th>\n",
       "      <td>2020-04-22</td>\n",
       "      <td>https://www.infomoney.com.br/minhas-financas/i...</td>\n",
       "      <td>P</td>\n",
       "      <td>sao paulo  o itau unibanco anunciou vai prorr...</td>\n",
       "      <td>P</td>\n",
       "    </tr>\n",
       "    <tr>\n",
       "      <th>4</th>\n",
       "      <td>2020-04-17</td>\n",
       "      <td>https://www.infomoney.com.br/negocios/diferent...</td>\n",
       "      <td>P</td>\n",
       "      <td>sao paulo  uma consequencias atual crise novo...</td>\n",
       "      <td>P</td>\n",
       "    </tr>\n",
       "    <tr>\n",
       "      <th>5</th>\n",
       "      <td>2020-02-11</td>\n",
       "      <td>https://www.infomoney.com.br/mercados/ceo-do-i...</td>\n",
       "      <td>P</td>\n",
       "      <td>sao paulo  mais resultado grande banco bem re...</td>\n",
       "      <td>N</td>\n",
       "    </tr>\n",
       "    <tr>\n",
       "      <th>6</th>\n",
       "      <td>2020-02-03</td>\n",
       "      <td>https://www.infomoney.com.br/onde-investir/ita...</td>\n",
       "      <td>P</td>\n",
       "      <td>sao paulo  focado segmento     acoes empresas...</td>\n",
       "      <td>P</td>\n",
       "    </tr>\n",
       "    <tr>\n",
       "      <th>7</th>\n",
       "      <td>2020-05-05</td>\n",
       "      <td>https://www.infomoney.com.br/mercados/preparad...</td>\n",
       "      <td>P</td>\n",
       "      <td>sao paulo  bem preparado guerra contra corona...</td>\n",
       "      <td>N</td>\n",
       "    </tr>\n",
       "    <tr>\n",
       "      <th>8</th>\n",
       "      <td>2020-01-23</td>\n",
       "      <td>https://www.infomoney.com.br/minhas-financas/i...</td>\n",
       "      <td>N</td>\n",
       "      <td>sao paulo  o itau unibanco  maior banco brasi...</td>\n",
       "      <td>P</td>\n",
       "    </tr>\n",
       "    <tr>\n",
       "      <th>9</th>\n",
       "      <td>2020-03-24</td>\n",
       "      <td>https://www.infomoney.com.br/mercados/itau-bba...</td>\n",
       "      <td>P</td>\n",
       "      <td>sao paulo  o itau bba cortou projecao ibovesp...</td>\n",
       "      <td>N</td>\n",
       "    </tr>\n",
       "    <tr>\n",
       "      <th>10</th>\n",
       "      <td>2020-05-04</td>\n",
       "      <td>https://www.infomoney.com.br/mercados/lucro-do...</td>\n",
       "      <td>N</td>\n",
       "      <td>sao paulo  o lucro liquido recorrente itau un...</td>\n",
       "      <td>P</td>\n",
       "    </tr>\n",
       "    <tr>\n",
       "      <th>11</th>\n",
       "      <td>2020-04-22</td>\n",
       "      <td>https://www.infomoney.com.br/mercados/itau-bba...</td>\n",
       "      <td>P</td>\n",
       "      <td>sao paulo  o ibovespa subiu   contar forte al...</td>\n",
       "      <td>P</td>\n",
       "    </tr>\n",
       "    <tr>\n",
       "      <th>12</th>\n",
       "      <td>2019-08-05</td>\n",
       "      <td>https://www.infomoney.com.br/mercados/lucro-de...</td>\n",
       "      <td>P</td>\n",
       "      <td>sao paulo  somados  quatro maiores bancos bra...</td>\n",
       "      <td>P</td>\n",
       "    </tr>\n",
       "    <tr>\n",
       "      <th>13</th>\n",
       "      <td>2020-02-10</td>\n",
       "      <td>https://www.infomoney.com.br/mercados/itau-uni...</td>\n",
       "      <td>P</td>\n",
       "      <td>sao paulo  o itau unibanco      fechou quarto...</td>\n",
       "      <td>N</td>\n",
       "    </tr>\n",
       "    <tr>\n",
       "      <th>14</th>\n",
       "      <td>2020-02-05</td>\n",
       "      <td>https://www.infomoney.com.br/minhas-financas/i...</td>\n",
       "      <td>P</td>\n",
       "      <td>sao paulo  apos decisao copom desta quartafei...</td>\n",
       "      <td>P</td>\n",
       "    </tr>\n",
       "    <tr>\n",
       "      <th>15</th>\n",
       "      <td>2020-03-30</td>\n",
       "      <td>https://www.infomoney.com.br/minhas-financas/i...</td>\n",
       "      <td>N</td>\n",
       "      <td>o itau unibanco informa prorrogou mil contra...</td>\n",
       "      <td>P</td>\n",
       "    </tr>\n",
       "    <tr>\n",
       "      <th>16</th>\n",
       "      <td>2020-04-06</td>\n",
       "      <td>https://www.infomoney.com.br/negocios/itau-e-b...</td>\n",
       "      <td>P</td>\n",
       "      <td>sao paulo  nessa semana  bradesco itau  dois ...</td>\n",
       "      <td>P</td>\n",
       "    </tr>\n",
       "    <tr>\n",
       "      <th>17</th>\n",
       "      <td>2019-05-13</td>\n",
       "      <td>https://www.infomoney.com.br/consumo/itau-lanc...</td>\n",
       "      <td>P</td>\n",
       "      <td>sao paulo  o itau unibanco anunciou nesta seg...</td>\n",
       "      <td>P</td>\n",
       "    </tr>\n",
       "    <tr>\n",
       "      <th>18</th>\n",
       "      <td>2020-04-12</td>\n",
       "      <td>https://www.infomoney.com.br/negocios/itau-uni...</td>\n",
       "      <td>P</td>\n",
       "      <td>o itau unibanco vai doar r  bilhao combate n...</td>\n",
       "      <td>P</td>\n",
       "    </tr>\n",
       "  </tbody>\n",
       "</table>\n",
       "</div>"
      ],
      "text/plain": [
       "          Date                                               Link Class  \\\n",
       "0   2020-01-03  https://www.infomoney.com.br/minhas-financas/c...     P   \n",
       "1   2019-05-10  https://www.infomoney.com.br/mercados/como-com...     P   \n",
       "2   2019-08-14  https://www.infomoney.com.br/consumo/itau-lanc...     P   \n",
       "3   2020-04-22  https://www.infomoney.com.br/minhas-financas/i...     P   \n",
       "4   2020-04-17  https://www.infomoney.com.br/negocios/diferent...     P   \n",
       "5   2020-02-11  https://www.infomoney.com.br/mercados/ceo-do-i...     P   \n",
       "6   2020-02-03  https://www.infomoney.com.br/onde-investir/ita...     P   \n",
       "7   2020-05-05  https://www.infomoney.com.br/mercados/preparad...     P   \n",
       "8   2020-01-23  https://www.infomoney.com.br/minhas-financas/i...     N   \n",
       "9   2020-03-24  https://www.infomoney.com.br/mercados/itau-bba...     P   \n",
       "10  2020-05-04  https://www.infomoney.com.br/mercados/lucro-do...     N   \n",
       "11  2020-04-22  https://www.infomoney.com.br/mercados/itau-bba...     P   \n",
       "12  2019-08-05  https://www.infomoney.com.br/mercados/lucro-de...     P   \n",
       "13  2020-02-10  https://www.infomoney.com.br/mercados/itau-uni...     P   \n",
       "14  2020-02-05  https://www.infomoney.com.br/minhas-financas/i...     P   \n",
       "15  2020-03-30  https://www.infomoney.com.br/minhas-financas/i...     N   \n",
       "16  2020-04-06  https://www.infomoney.com.br/negocios/itau-e-b...     P   \n",
       "17  2019-05-13  https://www.infomoney.com.br/consumo/itau-lanc...     P   \n",
       "18  2020-04-12  https://www.infomoney.com.br/negocios/itau-uni...     P   \n",
       "\n",
       "                                                 Text RNN_Class  \n",
       "0    sao paulo  a partir segundafeira    bancos br...         P  \n",
       "1    maior banco pais  itau          costuma desta...         P  \n",
       "2    sao paulo  o itau unibanco      informou prim...         P  \n",
       "3    sao paulo  o itau unibanco anunciou vai prorr...         P  \n",
       "4    sao paulo  uma consequencias atual crise novo...         P  \n",
       "5    sao paulo  mais resultado grande banco bem re...         N  \n",
       "6    sao paulo  focado segmento     acoes empresas...         P  \n",
       "7    sao paulo  bem preparado guerra contra corona...         N  \n",
       "8    sao paulo  o itau unibanco  maior banco brasi...         P  \n",
       "9    sao paulo  o itau bba cortou projecao ibovesp...         N  \n",
       "10   sao paulo  o lucro liquido recorrente itau un...         P  \n",
       "11   sao paulo  o ibovespa subiu   contar forte al...         P  \n",
       "12   sao paulo  somados  quatro maiores bancos bra...         P  \n",
       "13   sao paulo  o itau unibanco      fechou quarto...         N  \n",
       "14   sao paulo  apos decisao copom desta quartafei...         P  \n",
       "15    o itau unibanco informa prorrogou mil contra...         P  \n",
       "16   sao paulo  nessa semana  bradesco itau  dois ...         P  \n",
       "17   sao paulo  o itau unibanco anunciou nesta seg...         P  \n",
       "18    o itau unibanco vai doar r  bilhao combate n...         P  "
      ]
     },
     "execution_count": 26,
     "metadata": {},
     "output_type": "execute_result"
    }
   ],
   "source": [
    "df_test.head(50)"
   ]
  },
  {
   "cell_type": "code",
   "execution_count": 27,
   "metadata": {},
   "outputs": [
    {
     "data": {
      "text/plain": [
       "0.6519524617996605"
      ]
     },
     "execution_count": 27,
     "metadata": {},
     "output_type": "execute_result"
    }
   ],
   "source": [
    "from sklearn.metrics import f1_score\n",
    "prec1 = f1_score(df_test['Class'], df_test['RNN_Class'], average='weighted')\n",
    "prec1"
   ]
  },
  {
   "cell_type": "markdown",
   "metadata": {},
   "source": [
    "## Conclusion\n",
    "\n",
    "In spite of the model has a consider loss and low accuracy, the F1-score is acceptable using F1-score Weighted (0.65 out of 1) in the last test, the model nailed it the biggest news from Itaú in this year, where itaú donated 1 Billion to combat the covid-19 pandemic (row number 18), that was the biggest donation in the history of Brazil.\n",
    "\n",
    "There's a lot of test to do, and If I need to tune more this model I will start adding more data (hahaha) and after applying the bias-variance method again."
   ]
  }
 ],
 "metadata": {
  "kernelspec": {
   "display_name": "Python 3",
   "language": "python",
   "name": "python3"
  },
  "language_info": {
   "codemirror_mode": {
    "name": "ipython",
    "version": 3
   },
   "file_extension": ".py",
   "mimetype": "text/x-python",
   "name": "python",
   "nbconvert_exporter": "python",
   "pygments_lexer": "ipython3",
   "version": "3.7.3"
  }
 },
 "nbformat": 4,
 "nbformat_minor": 4
}
